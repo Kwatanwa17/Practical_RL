{
 "cells": [
  {
   "cell_type": "markdown",
   "metadata": {},
   "source": [
    "### Markov decision process\n",
    "\n",
    "This week's methods are all built to solve __M__arkov __D__ecision __P__rocesses. In the broadest sense, an MDP is defined by how it changes states and how rewards are computed.\n",
    "\n",
    "State transition is defined by $P(s' |s,a)$ - how likely are you to end at state $s'$ if you take action $a$ from state $s$. Now there's more than one way to define rewards, but we'll use $r(s,a,s')$ function for convenience.\n",
    "\n",
    "_This notebook is inspired by the awesome_ [CS294](https://github.com/berkeleydeeprlcourse/homework/blob/36a0b58261acde756abd55306fbe63df226bf62b/hw2/HW2.ipynb) _by Berkeley_"
   ]
  },
  {
   "cell_type": "markdown",
   "metadata": {},
   "source": [
    "For starters, let's define a simple MDP from this picture:\n",
    "\n",
    "<img src=\"https://upload.wikimedia.org/wikipedia/commons/a/ad/Markov_Decision_Process.svg\" width=\"400px\" alt=\"Diagram by Waldoalvarez via Wikimedia Commons, CC BY-SA 4.0\"/>"
   ]
  },
  {
   "cell_type": "code",
   "execution_count": 13,
   "metadata": {
    "pycharm": {
     "is_executing": false
    }
   },
   "outputs": [],
   "source": [
    "# If you Colab, uncomment this please\n",
    "# !wget -q https://raw.githubusercontent.com/yandexdataschool/Practical_RL/master/week02_value_based/mdp.py\n",
    "\n",
    "transition_probs = {\n",
    "    's0': {\n",
    "        'a0': {'s0': 0.5, 's2': 0.5},\n",
    "        'a1': {'s2': 1}\n",
    "    },\n",
    "    's1': {\n",
    "        'a0': {'s0': 0.7, 's1': 0.1, 's2': 0.2},\n",
    "        'a1': {'s1': 0.95, 's2': 0.05}\n",
    "    },\n",
    "    's2': {\n",
    "        'a0': {'s0': 0.4, 's2': 0.6},\n",
    "        'a1': {'s0': 0.3, 's1': 0.3, 's2': 0.4}\n",
    "    }\n",
    "}\n",
    "rewards = {\n",
    "    's1': {'a0': {'s0': +5}},\n",
    "    's2': {'a1': {'s0': -1}}\n",
    "}\n",
    "\n",
    "from mdp import MDP\n",
    "mdp = MDP(transition_probs, rewards, initial_state='s0')"
   ]
  },
  {
   "cell_type": "markdown",
   "metadata": {},
   "source": [
    "We can now use MDP just as any other gym environment:"
   ]
  },
  {
   "cell_type": "code",
   "execution_count": 14,
   "metadata": {
    "pycharm": {
     "is_executing": false
    }
   },
   "outputs": [
    {
     "name": "stdout",
     "text": [
      "initial state = s0\n",
      "next_state = s2, reward = 0.0, done = False\n"
     ],
     "output_type": "stream"
    }
   ],
   "source": [
    "print('initial state =', mdp.reset())\n",
    "next_state, reward, done, info = mdp.step('a1')\n",
    "print('next_state = %s, reward = %s, done = %s' % (next_state, reward, done))"
   ]
  },
  {
   "cell_type": "markdown",
   "metadata": {},
   "source": [
    "but it also has other methods that you'll need for Value Iteration"
   ]
  },
  {
   "cell_type": "code",
   "execution_count": 15,
   "metadata": {
    "pycharm": {
     "is_executing": false
    }
   },
   "outputs": [
    {
     "name": "stdout",
     "text": [
      "mdp.get_all_states = ('s2', 's1', 's0')\n",
      "mdp.get_possible_actions('s1') =  ('a0', 'a1')\n",
      "mdp.get_next_states('s1', 'a0') =  {'s2': 0.2, 's1': 0.1, 's0': 0.7}\n",
      "mdp.get_reward('s1', 'a0', 's0') =  5\n",
      "mdp.get_transition_prob('s1', 'a0', 's0') =  0.7\n"
     ],
     "output_type": "stream"
    }
   ],
   "source": [
    "print(\"mdp.get_all_states =\", mdp.get_all_states())\n",
    "print(\"mdp.get_possible_actions('s1') = \", mdp.get_possible_actions('s1'))\n",
    "print(\"mdp.get_next_states('s1', 'a0') = \", mdp.get_next_states('s1', 'a0'))\n",
    "print(\"mdp.get_reward('s1', 'a0', 's0') = \", mdp.get_reward('s1', 'a0', 's0'))\n",
    "print(\"mdp.get_transition_prob('s1', 'a0', 's0') = \",\n",
    "      mdp.get_transition_prob('s1', 'a0', 's0'))"
   ]
  },
  {
   "cell_type": "markdown",
   "metadata": {},
   "source": [
    "### Optional: Visualizing MDPs\n",
    "\n",
    "You can also visualize any MDP with the drawing fuction donated by [neer201](https://github.com/neer201).\n",
    "\n",
    "You have to install graphviz for system and for python. For ubuntu just run:\n",
    "\n",
    "1. `sudo apt-get install graphviz`\n",
    "2. `pip install graphviz`\n",
    "3. restart the notebook\n",
    "\n",
    "__Note:__ Installing graphviz on some OS (esp. Windows) may be tricky. However, you can ignore this part alltogether and use the standart vizualization."
   ]
  },
  {
   "cell_type": "code",
   "execution_count": 16,
   "metadata": {
    "pycharm": {
     "is_executing": false
    }
   },
   "outputs": [
    {
     "name": "stdout",
     "text": [
      "Graphviz available: True\n"
     ],
     "output_type": "stream"
    }
   ],
   "source": [
    "from mdp import has_graphviz\n",
    "from IPython.display import display\n",
    "print(\"Graphviz available:\", has_graphviz)"
   ]
  },
  {
   "cell_type": "code",
   "execution_count": 17,
   "metadata": {
    "pycharm": {
     "is_executing": false
    }
   },
   "outputs": [
    {
     "data": {
      "image/svg+xml": "<?xml version=\"1.0\" encoding=\"UTF-8\" standalone=\"no\"?>\n<!DOCTYPE svg PUBLIC \"-//W3C//DTD SVG 1.1//EN\"\n \"http://www.w3.org/Graphics/SVG/1.1/DTD/svg11.dtd\">\n<!-- Generated by graphviz version 2.38.0 (20140413.2041)\n -->\n<!-- Title: MDP Pages: 1 -->\n<svg width=\"720pt\" height=\"250pt\"\n viewBox=\"0.00 0.00 720.00 249.61\" xmlns=\"http://www.w3.org/2000/svg\" xmlns:xlink=\"http://www.w3.org/1999/xlink\">\n<g id=\"graph0\" class=\"graph\" transform=\"scale(0.711137 0.711137) rotate(0) translate(4 347)\">\n<title>MDP</title>\n<polygon fill=\"white\" stroke=\"none\" points=\"-4,4 -4,-347 1008.46,-347 1008.46,4 -4,4\"/>\n<!-- s2 -->\n<g id=\"node1\" class=\"node\"><title>s2</title>\n<ellipse fill=\"#85ff75\" stroke=\"#85ff75\" cx=\"40\" cy=\"-196\" rx=\"36\" ry=\"36\"/>\n<ellipse fill=\"none\" stroke=\"#85ff75\" cx=\"40\" cy=\"-196\" rx=\"40\" ry=\"40\"/>\n<text text-anchor=\"middle\" x=\"40\" y=\"-189.8\" font-family=\"Arial\" font-size=\"24.00\">s2</text>\n</g>\n<!-- s2&#45;a0 -->\n<g id=\"node2\" class=\"node\"><title>s2&#45;a0</title>\n<ellipse fill=\"lightpink\" stroke=\"lightpink\" cx=\"192.577\" cy=\"-269\" rx=\"27.6545\" ry=\"27.6545\"/>\n<text text-anchor=\"middle\" x=\"192.577\" y=\"-264\" font-family=\"Arial\" font-size=\"20.00\">a0</text>\n</g>\n<!-- s2&#45;&gt;s2&#45;a0 -->\n<g id=\"edge1\" class=\"edge\"><title>s2&#45;&gt;s2&#45;a0</title>\n<path fill=\"none\" stroke=\"red\" stroke-width=\"2\" d=\"M76.2485,-213.372C83.44,-216.9 90.9596,-220.578 98,-224 117.836,-233.641 140.085,-244.345 157.91,-252.894\"/>\n<polygon fill=\"red\" stroke=\"red\" stroke-width=\"2\" points=\"156.784,-256.235 167.314,-257.401 159.809,-249.923 156.784,-256.235\"/>\n</g>\n<!-- s2&#45;a1 -->\n<g id=\"node4\" class=\"node\"><title>s2&#45;a1</title>\n<ellipse fill=\"lightpink\" stroke=\"lightpink\" cx=\"192.577\" cy=\"-147\" rx=\"27.6545\" ry=\"27.6545\"/>\n<text text-anchor=\"middle\" x=\"192.577\" y=\"-142\" font-family=\"Arial\" font-size=\"20.00\">a1</text>\n</g>\n<!-- s2&#45;&gt;s2&#45;a1 -->\n<g id=\"edge4\" class=\"edge\"><title>s2&#45;&gt;s2&#45;a1</title>\n<path fill=\"none\" stroke=\"red\" stroke-width=\"2\" d=\"M73.0073,-173.267C80.8744,-168.563 89.4901,-164.102 98,-161 115.893,-154.477 136.772,-150.991 154.262,-149.129\"/>\n<polygon fill=\"red\" stroke=\"red\" stroke-width=\"2\" points=\"155.023,-152.573 164.658,-148.167 154.378,-145.603 155.023,-152.573\"/>\n</g>\n<!-- s2&#45;a0&#45;&gt;s2 -->\n<g id=\"edge2\" class=\"edge\"><title>s2&#45;a0&#45;&gt;s2</title>\n<path fill=\"none\" stroke=\"blue\" stroke-dasharray=\"5,2\" d=\"M164.884,-267.112C145.429,-264.852 118.927,-259.889 98,-249 89.7253,-244.694 81.7685,-238.857 74.56,-232.627\"/>\n<polygon fill=\"blue\" stroke=\"blue\" points=\"76.7952,-229.928 67.0519,-225.766 72.0733,-235.096 76.7952,-229.928\"/>\n<text text-anchor=\"middle\" x=\"122.5\" y=\"-270.2\" font-family=\"Arial\" font-size=\"16.00\">p = 0.6</text>\n</g>\n<!-- s0 -->\n<g id=\"node3\" class=\"node\"><title>s0</title>\n<ellipse fill=\"#85ff75\" stroke=\"#85ff75\" cx=\"824.309\" cy=\"-127\" rx=\"36\" ry=\"36\"/>\n<ellipse fill=\"none\" stroke=\"#85ff75\" cx=\"824.309\" cy=\"-127\" rx=\"40\" ry=\"40\"/>\n<text text-anchor=\"middle\" x=\"824.309\" y=\"-120.8\" font-family=\"Arial\" font-size=\"24.00\">s0</text>\n</g>\n<!-- s2&#45;a0&#45;&gt;s0 -->\n<g id=\"edge3\" class=\"edge\"><title>s2&#45;a0&#45;&gt;s0</title>\n<path fill=\"none\" stroke=\"blue\" stroke-dasharray=\"5,2\" d=\"M220.191,-271.123C288.271,-275.721 473.647,-282.981 619.309,-240 680.501,-221.944 743.656,-183.3 783.171,-156.256\"/>\n<polygon fill=\"blue\" stroke=\"blue\" points=\"785.493,-158.905 791.72,-150.333 781.507,-153.151 785.493,-158.905\"/>\n<text text-anchor=\"middle\" x=\"479.154\" y=\"-278.2\" font-family=\"Arial\" font-size=\"16.00\">p = 0.4</text>\n</g>\n<!-- s0&#45;a0 -->\n<g id=\"node8\" class=\"node\"><title>s0&#45;a0</title>\n<ellipse fill=\"lightpink\" stroke=\"lightpink\" cx=\"976.886\" cy=\"-160\" rx=\"27.6545\" ry=\"27.6545\"/>\n<text text-anchor=\"middle\" x=\"976.886\" y=\"-155\" font-family=\"Arial\" font-size=\"20.00\">a0</text>\n</g>\n<!-- s0&#45;&gt;s0&#45;a0 -->\n<g id=\"edge15\" class=\"edge\"><title>s0&#45;&gt;s0&#45;a0</title>\n<path fill=\"none\" stroke=\"red\" stroke-width=\"2\" d=\"M864.578,-129.628C884.779,-131.62 909.644,-135.072 931.309,-141 934.93,-141.991 938.643,-143.214 942.306,-144.557\"/>\n<polygon fill=\"red\" stroke=\"red\" stroke-width=\"2\" points=\"941.202,-147.885 951.788,-148.321 943.784,-141.378 941.202,-147.885\"/>\n</g>\n<!-- s0&#45;a1 -->\n<g id=\"node9\" class=\"node\"><title>s0&#45;a1</title>\n<ellipse fill=\"lightpink\" stroke=\"lightpink\" cx=\"976.886\" cy=\"-44\" rx=\"27.6545\" ry=\"27.6545\"/>\n<text text-anchor=\"middle\" x=\"976.886\" y=\"-39\" font-family=\"Arial\" font-size=\"20.00\">a1</text>\n</g>\n<!-- s0&#45;&gt;s0&#45;a1 -->\n<g id=\"edge18\" class=\"edge\"><title>s0&#45;&gt;s0&#45;a1</title>\n<path fill=\"none\" stroke=\"red\" stroke-width=\"2\" d=\"M859.854,-107.958C884.953,-94.1232 918.697,-75.5229 943.324,-61.9483\"/>\n<polygon fill=\"red\" stroke=\"red\" stroke-width=\"2\" points=\"945.211,-64.9048 952.279,-57.0122 941.832,-58.7744 945.211,-64.9048\"/>\n</g>\n<!-- s2&#45;a1&#45;&gt;s2 -->\n<g id=\"edge5\" class=\"edge\"><title>s2&#45;a1&#45;&gt;s2</title>\n<path fill=\"none\" stroke=\"blue\" stroke-dasharray=\"5,2\" d=\"M166.1,-155.291C144.736,-162.243 113.665,-172.354 87.8337,-180.76\"/>\n<polygon fill=\"blue\" stroke=\"blue\" points=\"86.6474,-177.465 78.2213,-183.888 88.8136,-184.121 86.6474,-177.465\"/>\n<text text-anchor=\"middle\" x=\"122.5\" y=\"-183.2\" font-family=\"Arial\" font-size=\"16.00\">p = 0.4</text>\n</g>\n<!-- s2&#45;a1&#45;&gt;s0 -->\n<g id=\"edge7\" class=\"edge\"><title>s2&#45;a1&#45;&gt;s0</title>\n<path fill=\"none\" stroke=\"blue\" stroke-dasharray=\"5,2\" d=\"M218.057,-135.572C242.099,-124.705 280.032,-108.501 314.154,-98 356.728,-84.8983 367.858,-81.6928 412.154,-77 544.061,-63.0257 699.354,-95.1521 775.84,-114.197\"/>\n<polygon fill=\"blue\" stroke=\"blue\" points=\"775.104,-117.621 785.656,-116.678 776.819,-110.834 775.104,-117.621\"/>\n<text text-anchor=\"middle\" x=\"479.154\" y=\"-82.2\" font-family=\"Arial\" font-size=\"16.00\">p = 0.3 &#160;reward =&#45;1</text>\n</g>\n<!-- s1 -->\n<g id=\"node5\" class=\"node\"><title>s1</title>\n<ellipse fill=\"#85ff75\" stroke=\"#85ff75\" cx=\"354.154\" cy=\"-147\" rx=\"36\" ry=\"36\"/>\n<ellipse fill=\"none\" stroke=\"#85ff75\" cx=\"354.154\" cy=\"-147\" rx=\"40\" ry=\"40\"/>\n<text text-anchor=\"middle\" x=\"354.154\" y=\"-140.8\" font-family=\"Arial\" font-size=\"24.00\">s1</text>\n</g>\n<!-- s2&#45;a1&#45;&gt;s1 -->\n<g id=\"edge6\" class=\"edge\"><title>s2&#45;a1&#45;&gt;s1</title>\n<path fill=\"none\" stroke=\"blue\" stroke-dasharray=\"5,2\" d=\"M220.287,-147C243.024,-147 276.285,-147 303.84,-147\"/>\n<polygon fill=\"blue\" stroke=\"blue\" points=\"304.088,-150.5 314.088,-147 304.088,-143.5 304.088,-150.5\"/>\n<text text-anchor=\"middle\" x=\"267.154\" y=\"-152.2\" font-family=\"Arial\" font-size=\"16.00\">p = 0.3</text>\n</g>\n<!-- s1&#45;a0 -->\n<g id=\"node6\" class=\"node\"><title>s1&#45;a0</title>\n<ellipse fill=\"lightpink\" stroke=\"lightpink\" cx=\"591.731\" cy=\"-127\" rx=\"27.6545\" ry=\"27.6545\"/>\n<text text-anchor=\"middle\" x=\"591.731\" y=\"-122\" font-family=\"Arial\" font-size=\"20.00\">a0</text>\n</g>\n<!-- s1&#45;&gt;s1&#45;a0 -->\n<g id=\"edge8\" class=\"edge\"><title>s1&#45;&gt;s1&#45;a0</title>\n<path fill=\"none\" stroke=\"red\" stroke-width=\"2\" d=\"M394.301,-143.789C432.913,-140.605 493.609,-135.558 546.154,-131 548.661,-130.783 551.246,-130.556 553.85,-130.327\"/>\n<polygon fill=\"red\" stroke=\"red\" stroke-width=\"2\" points=\"554.21,-133.808 563.861,-129.437 553.591,-126.836 554.21,-133.808\"/>\n</g>\n<!-- s1&#45;a1 -->\n<g id=\"node7\" class=\"node\"><title>s1&#45;a1</title>\n<ellipse fill=\"lightpink\" stroke=\"lightpink\" cx=\"591.731\" cy=\"-203\" rx=\"27.6545\" ry=\"27.6545\"/>\n<text text-anchor=\"middle\" x=\"591.731\" y=\"-198\" font-family=\"Arial\" font-size=\"20.00\">a1</text>\n</g>\n<!-- s1&#45;&gt;s1&#45;a1 -->\n<g id=\"edge12\" class=\"edge\"><title>s1&#45;&gt;s1&#45;a1</title>\n<path fill=\"none\" stroke=\"red\" stroke-width=\"2\" d=\"M394.154,-152.085C433.175,-157.746 494.642,-168.227 546.154,-184 549.744,-185.099 553.437,-186.392 557.088,-187.779\"/>\n<polygon fill=\"red\" stroke=\"red\" stroke-width=\"2\" points=\"555.97,-191.102 566.554,-191.596 558.589,-184.61 555.97,-191.102\"/>\n</g>\n<!-- s1&#45;a0&#45;&gt;s2 -->\n<g id=\"edge9\" class=\"edge\"><title>s1&#45;a0&#45;&gt;s2</title>\n<path fill=\"none\" stroke=\"blue\" stroke-dasharray=\"5,2\" d=\"M578.567,-102.609C571.053,-90.4121 560.157,-76.8255 546.154,-70 423.012,-9.97576 371.928,-52.4781 238.154,-82 171.104,-96.797 154.386,-107.816 98,-147 91.294,-151.66 84.4605,-156.97 77.9626,-162.333\"/>\n<polygon fill=\"blue\" stroke=\"blue\" points=\"75.3231,-159.982 69.9463,-169.111 79.8425,-165.327 75.3231,-159.982\"/>\n<text text-anchor=\"middle\" x=\"267.154\" y=\"-87.2\" font-family=\"Arial\" font-size=\"16.00\">p = 0.2</text>\n</g>\n<!-- s1&#45;a0&#45;&gt;s0 -->\n<g id=\"edge11\" class=\"edge\"><title>s1&#45;a0&#45;&gt;s0</title>\n<path fill=\"none\" stroke=\"blue\" stroke-dasharray=\"5,2\" d=\"M619.633,-127C657.484,-127 727.102,-127 774.29,-127\"/>\n<polygon fill=\"blue\" stroke=\"blue\" points=\"774.294,-130.5 784.294,-127 774.294,-123.5 774.294,-130.5\"/>\n<text text-anchor=\"middle\" x=\"701.809\" y=\"-132.2\" font-family=\"Arial\" font-size=\"16.00\">p = 0.7 &#160;reward =5</text>\n</g>\n<!-- s1&#45;a0&#45;&gt;s1 -->\n<g id=\"edge10\" class=\"edge\"><title>s1&#45;a0&#45;&gt;s1</title>\n<path fill=\"none\" stroke=\"blue\" stroke-dasharray=\"5,2\" d=\"M566.723,-115.353C560.202,-112.735 553.036,-110.337 546.154,-109 487.692,-97.6421 469.154,-91.7417 412.154,-109 406.104,-110.832 400.108,-113.542 394.406,-116.685\"/>\n<polygon fill=\"blue\" stroke=\"blue\" points=\"392.479,-113.76 385.72,-121.919 396.092,-119.756 392.479,-113.76\"/>\n<text text-anchor=\"middle\" x=\"479.154\" y=\"-114.2\" font-family=\"Arial\" font-size=\"16.00\">p = 0.1</text>\n</g>\n<!-- s1&#45;a1&#45;&gt;s2 -->\n<g id=\"edge13\" class=\"edge\"><title>s1&#45;a1&#45;&gt;s2</title>\n<path fill=\"none\" stroke=\"blue\" stroke-dasharray=\"5,2\" d=\"M566.78,-215.291C560.258,-218.054 553.078,-220.586 546.154,-222 487.803,-233.917 471.673,-224.082 412.154,-222 296.48,-217.953 160.898,-206.833 89.9499,-200.525\"/>\n<polygon fill=\"blue\" stroke=\"blue\" points=\"90.2335,-197.036 79.9612,-199.63 89.6091,-204.008 90.2335,-197.036\"/>\n<text text-anchor=\"middle\" x=\"267.154\" y=\"-222.2\" font-family=\"Arial\" font-size=\"16.00\">p = 0.05</text>\n</g>\n<!-- s1&#45;a1&#45;&gt;s1 -->\n<g id=\"edge14\" class=\"edge\"><title>s1&#45;a1&#45;&gt;s1</title>\n<path fill=\"none\" stroke=\"blue\" stroke-dasharray=\"5,2\" d=\"M563.942,-203.11C528.328,-202.497 463.866,-198.725 412.154,-181 406.909,-179.202 401.621,-176.878 396.492,-174.291\"/>\n<polygon fill=\"blue\" stroke=\"blue\" points=\"397.935,-171.092 387.476,-169.403 394.599,-177.246 397.935,-171.092\"/>\n<text text-anchor=\"middle\" x=\"479.154\" y=\"-208.2\" font-family=\"Arial\" font-size=\"16.00\">p = 0.95</text>\n</g>\n<!-- s0&#45;a0&#45;&gt;s2 -->\n<g id=\"edge16\" class=\"edge\"><title>s0&#45;a0&#45;&gt;s2</title>\n<path fill=\"none\" stroke=\"blue\" stroke-dasharray=\"5,2\" d=\"M966.319,-185.781C947.238,-232.188 899.769,-325 825.309,-325 191.577,-325 191.577,-325 191.577,-325 146.689,-325 132.376,-315.865 98,-287 83.3041,-274.66 71.2107,-257.531 62.0029,-241.459\"/>\n<polygon fill=\"blue\" stroke=\"blue\" points=\"65.0635,-239.761 57.1861,-232.676 58.9259,-243.127 65.0635,-239.761\"/>\n<text text-anchor=\"middle\" x=\"479.154\" y=\"-330.2\" font-family=\"Arial\" font-size=\"16.00\">p = 0.5</text>\n</g>\n<!-- s0&#45;a0&#45;&gt;s0 -->\n<g id=\"edge17\" class=\"edge\"><title>s0&#45;a0&#45;&gt;s0</title>\n<path fill=\"none\" stroke=\"blue\" stroke-dasharray=\"5,2\" d=\"M949.89,-154.303C928.921,-149.707 898.85,-143.117 873.506,-137.563\"/>\n<polygon fill=\"blue\" stroke=\"blue\" points=\"874.213,-134.135 863.695,-135.413 872.714,-140.972 874.213,-134.135\"/>\n<text text-anchor=\"middle\" x=\"906.809\" y=\"-156.2\" font-family=\"Arial\" font-size=\"16.00\">p = 0.5</text>\n</g>\n<!-- s0&#45;a1&#45;&gt;s2 -->\n<g id=\"edge19\" class=\"edge\"><title>s0&#45;a1&#45;&gt;s2</title>\n<path fill=\"none\" stroke=\"blue\" stroke-dasharray=\"5,2\" d=\"M951.741,-32.3243C922.516,-19.2891 871.472,-0 825.309,-0 191.577,-0 191.577,-0 191.577,-0 117.346,-0 74.6788,-89.5013 54.8139,-147.543\"/>\n<polygon fill=\"blue\" stroke=\"blue\" points=\"51.4116,-146.683 51.5935,-157.277 58.0574,-148.882 51.4116,-146.683\"/>\n<text text-anchor=\"middle\" x=\"479.154\" y=\"-5.2\" font-family=\"Arial\" font-size=\"16.00\">p = 1</text>\n</g>\n</g>\n</svg>\n",
      "text/plain": "<graphviz.dot.Digraph at 0x7fda4442b5c0>"
     },
     "metadata": {},
     "output_type": "display_data"
    }
   ],
   "source": [
    "if has_graphviz:\n",
    "    from mdp import plot_graph, plot_graph_with_state_values, \\\n",
    "        plot_graph_optimal_strategy_and_state_values\n",
    "\n",
    "    display(plot_graph(mdp))"
   ]
  },
  {
   "cell_type": "markdown",
   "metadata": {},
   "source": [
    "### Value Iteration\n",
    "\n",
    "Now let's build something to solve this MDP. The simplest algorithm so far is __V__alue __I__teration\n",
    "\n",
    "Here's the pseudo-code for VI:\n",
    "\n",
    "---\n",
    "\n",
    "`1.` Initialize $V^{(0)}(s)=0$, for all $s$\n",
    "\n",
    "`2.` For $i=0, 1, 2, \\dots$\n",
    " \n",
    "`3.` $ \\quad V_{(i+1)}(s) = \\max_a \\sum_{s'} P(s' | s,a) \\cdot [ r(s,a,s') + \\gamma V_{i}(s')]$, for all $s$\n",
    "\n",
    "---"
   ]
  },
  {
   "cell_type": "markdown",
   "metadata": {},
   "source": [
    "First, let's write a function to compute the state-action value function $Q^{\\pi}$, defined as follows\n",
    "\n",
    "$$Q_i(s, a) = \\sum_{s'} P(s' | s,a) \\cdot [ r(s,a,s') + \\gamma V_{i}(s')]$$\n"
   ]
  },
  {
   "cell_type": "code",
   "execution_count": 18,
   "metadata": {
    "pycharm": {
     "is_executing": false
    }
   },
   "outputs": [
    {
     "name": "stdout",
     "text": [
      "Overwriting mdp_get_action_value.py\n"
     ],
     "output_type": "stream"
    }
   ],
   "source": [
    "%%writefile mdp_get_action_value.py\n",
    "\n",
    "def get_action_value(mdp, state_values, state, action, gamma):\n",
    "    \"\"\" Computes Q(s,a) as in formula above \"\"\"\n",
    "\n",
    "    # YOUR CODE HERE\n",
    "    # state_values: dictionary of state:index\n",
    "    Q = 0\n",
    "    \n",
    "    for state_prime in mdp.get_next_states(state, action):\n",
    "        reward = mdp.get_reward(state, action, state_prime)\n",
    "        Q += mdp.get_transition_prob(state, action, state_prime) * (reward+gamma*state_values[state_prime])\n",
    "    return Q"
   ]
  },
  {
   "cell_type": "code",
   "execution_count": 19,
   "metadata": {
    "pycharm": {
     "is_executing": false
    }
   },
   "outputs": [],
   "source": [
    "from mdp_get_action_value import get_action_value"
   ]
  },
  {
   "cell_type": "code",
   "execution_count": 20,
   "metadata": {
    "pycharm": {
     "is_executing": false
    }
   },
   "outputs": [
    {
     "name": "stdout",
     "text": [
      "{'s2': 2, 's1': 1, 's0': 0}\n"
     ],
     "output_type": "stream"
    }
   ],
   "source": [
    "import numpy as np\n",
    "test_Vs = {s: i for i, s in enumerate(sorted(mdp.get_all_states()))}\n",
    "print(test_Vs)\n",
    "assert np.isclose(get_action_value(mdp, test_Vs, 's2', 'a1', 0.9), 0.69)\n",
    "assert np.isclose(get_action_value(mdp, test_Vs, 's1', 'a0', 0.9), 3.95)"
   ]
  },
  {
   "cell_type": "markdown",
   "metadata": {},
   "source": [
    "Using $Q(s,a)$ we can now define the \"next\" V(s) for value iteration.\n",
    " $$V_{(i+1)}(s) = \\max_a \\sum_{s'} P(s' | s,a) \\cdot [ r(s,a,s') + \\gamma V_{i}(s')] = \\max_a Q_i(s,a)$$"
   ]
  },
  {
   "cell_type": "code",
   "execution_count": 20,
   "outputs": [],
   "source": [],
   "metadata": {
    "collapsed": false,
    "pycharm": {
     "name": "#%%\n",
     "is_executing": false
    }
   }
  },
  {
   "cell_type": "code",
   "execution_count": 21,
   "metadata": {
    "pycharm": {
     "is_executing": false
    }
   },
   "outputs": [],
   "source": [
    "def get_new_state_value(mdp, state_values, state, gamma):\n",
    "    \"\"\" Computes next V(s) as in formula above. Please do not change state_values in process. \"\"\"\n",
    "    if mdp.is_terminal(state):\n",
    "        return 0\n",
    "    \n",
    "    Qi = []\n",
    "    \n",
    "    possible_actions = mdp.get_possible_actions(state) \n",
    "    for action_prime in possible_actions:\n",
    "        Q = get_action_value(mdp, state_values, state, action_prime, gamma)\n",
    "        Qi.append(Q)\n",
    "\n",
    "    return np.max(Qi)"
   ]
  },
  {
   "cell_type": "code",
   "execution_count": 22,
   "metadata": {
    "pycharm": {
     "is_executing": false
    }
   },
   "outputs": [],
   "source": [
    "test_Vs_copy = dict(test_Vs)\n",
    "assert np.isclose(get_new_state_value(mdp, test_Vs, 's0', 0.9), 1.8)\n",
    "assert np.isclose(get_new_state_value(mdp, test_Vs, 's2', 0.9), 1.08)\n",
    "assert test_Vs == test_Vs_copy, \"please do not change state_values in get_new_state_value\""
   ]
  },
  {
   "cell_type": "markdown",
   "metadata": {},
   "source": [
    "Finally, let's combine everything we wrote into a working value iteration algo."
   ]
  },
  {
   "cell_type": "code",
   "execution_count": 23,
   "metadata": {
    "pycharm": {
     "is_executing": false
    }
   },
   "outputs": [
    {
     "data": {
      "image/svg+xml": "<?xml version=\"1.0\" encoding=\"UTF-8\" standalone=\"no\"?>\n<!DOCTYPE svg PUBLIC \"-//W3C//DTD SVG 1.1//EN\"\n \"http://www.w3.org/Graphics/SVG/1.1/DTD/svg11.dtd\">\n<!-- Generated by graphviz version 2.38.0 (20140413.2041)\n -->\n<!-- Title: MDP Pages: 1 -->\n<svg width=\"720pt\" height=\"238pt\"\n viewBox=\"0.00 0.00 720.00 237.84\" xmlns=\"http://www.w3.org/2000/svg\" xmlns:xlink=\"http://www.w3.org/1999/xlink\">\n<g id=\"graph0\" class=\"graph\" transform=\"scale(0.666223 0.666223) rotate(0) translate(4 353)\">\n<title>MDP</title>\n<polygon fill=\"white\" stroke=\"none\" points=\"-4,4 -4,-353 1076.72,-353 1076.72,4 -4,4\"/>\n<!-- s2 -->\n<g id=\"node1\" class=\"node\"><title>s2</title>\n<ellipse fill=\"#85ff75\" stroke=\"#85ff75\" cx=\"51.3762\" cy=\"-202\" rx=\"47.2622\" ry=\"47.2622\"/>\n<ellipse fill=\"none\" stroke=\"#85ff75\" cx=\"51.3762\" cy=\"-202\" rx=\"51.2526\" ry=\"51.2526\"/>\n<text text-anchor=\"middle\" x=\"51.3762\" y=\"-208.8\" font-family=\"Arial\" font-size=\"24.00\">s2</text>\n<text text-anchor=\"middle\" x=\"51.3762\" y=\"-182.8\" font-family=\"Arial\" font-size=\"24.00\">V =0</text>\n</g>\n<!-- s2&#45;a0 -->\n<g id=\"node2\" class=\"node\"><title>s2&#45;a0</title>\n<ellipse fill=\"lightpink\" stroke=\"lightpink\" cx=\"215.329\" cy=\"-275\" rx=\"27.6545\" ry=\"27.6545\"/>\n<text text-anchor=\"middle\" x=\"215.329\" y=\"-270\" font-family=\"Arial\" font-size=\"20.00\">a0</text>\n</g>\n<!-- s2&#45;&gt;s2&#45;a0 -->\n<g id=\"edge1\" class=\"edge\"><title>s2&#45;&gt;s2&#45;a0</title>\n<path fill=\"none\" stroke=\"red\" stroke-width=\"2\" d=\"M98.7855,-222.919C124.91,-234.694 156.943,-249.133 180.65,-259.819\"/>\n<polygon fill=\"red\" stroke=\"red\" stroke-width=\"2\" points=\"179.382,-263.087 189.937,-264.005 182.258,-256.705 179.382,-263.087\"/>\n</g>\n<!-- s2&#45;a1 -->\n<g id=\"node4\" class=\"node\"><title>s2&#45;a1</title>\n<ellipse fill=\"lightpink\" stroke=\"lightpink\" cx=\"215.329\" cy=\"-154\" rx=\"27.6545\" ry=\"27.6545\"/>\n<text text-anchor=\"middle\" x=\"215.329\" y=\"-149\" font-family=\"Arial\" font-size=\"20.00\">a1</text>\n</g>\n<!-- s2&#45;&gt;s2&#45;a1 -->\n<g id=\"edge4\" class=\"edge\"><title>s2&#45;&gt;s2&#45;a1</title>\n<path fill=\"none\" stroke=\"red\" stroke-width=\"2\" d=\"M96.3332,-176.802C104.27,-173.039 112.613,-169.568 120.752,-167 138.888,-161.279 159.789,-158.074 177.232,-156.279\"/>\n<polygon fill=\"red\" stroke=\"red\" stroke-width=\"2\" points=\"177.95,-159.728 187.59,-155.333 177.314,-152.757 177.95,-159.728\"/>\n</g>\n<!-- s2&#45;a0&#45;&gt;s2 -->\n<g id=\"edge2\" class=\"edge\"><title>s2&#45;a0&#45;&gt;s2</title>\n<path fill=\"none\" stroke=\"blue\" stroke-dasharray=\"5,2\" d=\"M187.505,-272.494C168.225,-269.935 141.995,-264.871 120.752,-255 113.116,-251.452 105.545,-246.916 98.3774,-241.995\"/>\n<polygon fill=\"blue\" stroke=\"blue\" points=\"100.327,-239.086 90.1682,-236.078 96.2338,-244.764 100.327,-239.086\"/>\n<text text-anchor=\"middle\" x=\"145.252\" y=\"-275.2\" font-family=\"Arial\" font-size=\"16.00\">p = 0.6</text>\n</g>\n<!-- s0 -->\n<g id=\"node3\" class=\"node\"><title>s0</title>\n<ellipse fill=\"#85ff75\" stroke=\"#85ff75\" cx=\"881.189\" cy=\"-129\" rx=\"47.2622\" ry=\"47.2622\"/>\n<ellipse fill=\"none\" stroke=\"#85ff75\" cx=\"881.189\" cy=\"-129\" rx=\"51.2526\" ry=\"51.2526\"/>\n<text text-anchor=\"middle\" x=\"881.189\" y=\"-135.8\" font-family=\"Arial\" font-size=\"24.00\">s0</text>\n<text text-anchor=\"middle\" x=\"881.189\" y=\"-109.8\" font-family=\"Arial\" font-size=\"24.00\">V =0</text>\n</g>\n<!-- s2&#45;a0&#45;&gt;s0 -->\n<g id=\"edge3\" class=\"edge\"><title>s2&#45;a0&#45;&gt;s0</title>\n<path fill=\"none\" stroke=\"blue\" stroke-dasharray=\"5,2\" d=\"M243.017,-276.758C313.528,-280.615 509.986,-286.239 664.813,-242 724.892,-224.834 787.477,-189.758 829.597,-163.212\"/>\n<polygon fill=\"blue\" stroke=\"blue\" points=\"831.715,-166.013 838.267,-157.686 827.953,-160.11 831.715,-166.013\"/>\n<text text-anchor=\"middle\" x=\"524.659\" y=\"-281.2\" font-family=\"Arial\" font-size=\"16.00\">p = 0.4</text>\n</g>\n<!-- s0&#45;a0 -->\n<g id=\"node8\" class=\"node\"><title>s0&#45;a0</title>\n<ellipse fill=\"lightpink\" stroke=\"lightpink\" cx=\"1045.14\" cy=\"-162\" rx=\"27.6545\" ry=\"27.6545\"/>\n<text text-anchor=\"middle\" x=\"1045.14\" y=\"-157\" font-family=\"Arial\" font-size=\"20.00\">a0</text>\n</g>\n<!-- s0&#45;&gt;s0&#45;a0 -->\n<g id=\"edge15\" class=\"edge\"><title>s0&#45;&gt;s0&#45;a0</title>\n<path fill=\"none\" stroke=\"red\" stroke-width=\"2\" d=\"M932.759,-131.869C953.69,-133.869 978.052,-137.258 999.566,-143 1003.19,-143.968 1006.91,-145.176 1010.58,-146.511\"/>\n<polygon fill=\"red\" stroke=\"red\" stroke-width=\"2\" points=\"1009.47,-149.839 1020.06,-150.262 1012.05,-143.33 1009.47,-149.839\"/>\n</g>\n<!-- s0&#45;a1 -->\n<g id=\"node9\" class=\"node\"><title>s0&#45;a1</title>\n<ellipse fill=\"lightpink\" stroke=\"lightpink\" cx=\"1045.14\" cy=\"-45\" rx=\"27.6545\" ry=\"27.6545\"/>\n<text text-anchor=\"middle\" x=\"1045.14\" y=\"-40\" font-family=\"Arial\" font-size=\"20.00\">a1</text>\n</g>\n<!-- s0&#45;&gt;s0&#45;a1 -->\n<g id=\"edge18\" class=\"edge\"><title>s0&#45;&gt;s0&#45;a1</title>\n<path fill=\"none\" stroke=\"red\" stroke-width=\"2\" d=\"M927.302,-105.601C953.908,-91.8017 986.987,-74.6448 1011.15,-62.1123\"/>\n<polygon fill=\"red\" stroke=\"red\" stroke-width=\"2\" points=\"1013,-65.0958 1020.27,-57.3846 1009.78,-58.8819 1013,-65.0958\"/>\n</g>\n<!-- s2&#45;a1&#45;&gt;s2 -->\n<g id=\"edge5\" class=\"edge\"><title>s2&#45;a1&#45;&gt;s2</title>\n<path fill=\"none\" stroke=\"blue\" stroke-dasharray=\"5,2\" d=\"M188.804,-161.565C167.885,-167.765 137.466,-176.781 110.657,-184.727\"/>\n<polygon fill=\"blue\" stroke=\"blue\" points=\"109.561,-181.401 100.967,-187.598 111.55,-188.112 109.561,-181.401\"/>\n<text text-anchor=\"middle\" x=\"145.252\" y=\"-186.2\" font-family=\"Arial\" font-size=\"16.00\">p = 0.4</text>\n</g>\n<!-- s2&#45;a1&#45;&gt;s0 -->\n<g id=\"edge7\" class=\"edge\"><title>s2&#45;a1&#45;&gt;s0</title>\n<path fill=\"none\" stroke=\"blue\" stroke-dasharray=\"5,2\" d=\"M239.404,-139.82C263.002,-126.026 301.168,-105.639 336.907,-95 507.401,-44.2477 720.892,-86.5115 821.975,-112.444\"/>\n<polygon fill=\"blue\" stroke=\"blue\" points=\"821.134,-115.842 831.693,-114.976 822.899,-109.068 821.134,-115.842\"/>\n<text text-anchor=\"middle\" x=\"524.659\" y=\"-79.2\" font-family=\"Arial\" font-size=\"16.00\">p = 0.3 &#160;reward =&#45;1</text>\n</g>\n<!-- s1 -->\n<g id=\"node5\" class=\"node\"><title>s1</title>\n<ellipse fill=\"#85ff75\" stroke=\"#85ff75\" cx=\"388.283\" cy=\"-155\" rx=\"47.2622\" ry=\"47.2622\"/>\n<ellipse fill=\"none\" stroke=\"#85ff75\" cx=\"388.283\" cy=\"-155\" rx=\"51.2526\" ry=\"51.2526\"/>\n<text text-anchor=\"middle\" x=\"388.283\" y=\"-161.8\" font-family=\"Arial\" font-size=\"24.00\">s1</text>\n<text text-anchor=\"middle\" x=\"388.283\" y=\"-135.8\" font-family=\"Arial\" font-size=\"24.00\">V =0</text>\n</g>\n<!-- s2&#45;a1&#45;&gt;s1 -->\n<g id=\"edge6\" class=\"edge\"><title>s2&#45;a1&#45;&gt;s1</title>\n<path fill=\"none\" stroke=\"blue\" stroke-dasharray=\"5,2\" d=\"M243.041,-154.156C265.288,-154.286 297.829,-154.477 326.375,-154.644\"/>\n<polygon fill=\"blue\" stroke=\"blue\" points=\"326.665,-158.145 336.685,-154.704 326.706,-151.145 326.665,-158.145\"/>\n<text text-anchor=\"middle\" x=\"289.907\" y=\"-160.2\" font-family=\"Arial\" font-size=\"16.00\">p = 0.3</text>\n</g>\n<!-- s1&#45;a0 -->\n<g id=\"node6\" class=\"node\"><title>s1&#45;a0</title>\n<ellipse fill=\"lightpink\" stroke=\"lightpink\" cx=\"637.236\" cy=\"-129\" rx=\"27.6545\" ry=\"27.6545\"/>\n<text text-anchor=\"middle\" x=\"637.236\" y=\"-124\" font-family=\"Arial\" font-size=\"20.00\">a0</text>\n</g>\n<!-- s1&#45;&gt;s1&#45;a0 -->\n<g id=\"edge8\" class=\"edge\"><title>s1&#45;&gt;s1&#45;a0</title>\n<path fill=\"none\" stroke=\"red\" stroke-width=\"2\" d=\"M439.555,-149.707C487.008,-144.711 557.037,-137.338 599.473,-132.871\"/>\n<polygon fill=\"red\" stroke=\"red\" stroke-width=\"2\" points=\"600.058,-136.328 609.637,-131.8 599.325,-129.367 600.058,-136.328\"/>\n</g>\n<!-- s1&#45;a1 -->\n<g id=\"node7\" class=\"node\"><title>s1&#45;a1</title>\n<ellipse fill=\"lightpink\" stroke=\"lightpink\" cx=\"637.236\" cy=\"-205\" rx=\"27.6545\" ry=\"27.6545\"/>\n<text text-anchor=\"middle\" x=\"637.236\" y=\"-200\" font-family=\"Arial\" font-size=\"20.00\">a1</text>\n</g>\n<!-- s1&#45;&gt;s1&#45;a1 -->\n<g id=\"edge12\" class=\"edge\"><title>s1&#45;&gt;s1&#45;a1</title>\n<path fill=\"none\" stroke=\"red\" stroke-width=\"2\" d=\"M439.515,-159.16C480.927,-163.426 540.894,-171.542 591.659,-186 595.27,-187.028 598.976,-188.275 602.635,-189.634\"/>\n<polygon fill=\"red\" stroke=\"red\" stroke-width=\"2\" points=\"601.527,-192.96 612.112,-193.416 604.121,-186.459 601.527,-192.96\"/>\n</g>\n<!-- s1&#45;a0&#45;&gt;s2 -->\n<g id=\"edge9\" class=\"edge\"><title>s1&#45;a0&#45;&gt;s2</title>\n<path fill=\"none\" stroke=\"blue\" stroke-dasharray=\"5,2\" d=\"M625.001,-103.888C617.599,-90.6137 606.512,-75.5421 591.659,-68 460.516,-1.40717 402.759,-40.1276 260.907,-79 200.607,-95.5243 139.976,-134.374 99.7581,-164.025\"/>\n<polygon fill=\"blue\" stroke=\"blue\" points=\"97.6602,-161.224 91.7433,-170.012 101.849,-166.832 97.6602,-161.224\"/>\n<text text-anchor=\"middle\" x=\"289.907\" y=\"-84.2\" font-family=\"Arial\" font-size=\"16.00\">p = 0.2</text>\n</g>\n<!-- s1&#45;a0&#45;&gt;s0 -->\n<g id=\"edge11\" class=\"edge\"><title>s1&#45;a0&#45;&gt;s0</title>\n<path fill=\"none\" stroke=\"blue\" stroke-dasharray=\"5,2\" d=\"M665.054,-129C702.041,-129 769.76,-129 819.372,-129\"/>\n<polygon fill=\"blue\" stroke=\"blue\" points=\"819.666,-132.5 829.666,-129 819.666,-125.5 819.666,-132.5\"/>\n<text text-anchor=\"middle\" x=\"747.313\" y=\"-134.2\" font-family=\"Arial\" font-size=\"16.00\">p = 0.7 &#160;reward =5</text>\n</g>\n<!-- s1&#45;a0&#45;&gt;s1 -->\n<g id=\"edge10\" class=\"edge\"><title>s1&#45;a0&#45;&gt;s1</title>\n<path fill=\"none\" stroke=\"blue\" stroke-dasharray=\"5,2\" d=\"M611.707,-117.821C605.312,-115.417 598.338,-113.23 591.659,-112 533.089,-101.211 514.884,-95.502 457.659,-112 451.231,-113.853 444.825,-116.509 438.655,-119.603\"/>\n<polygon fill=\"blue\" stroke=\"blue\" points=\"436.926,-116.56 429.81,-124.409 440.267,-122.71 436.926,-116.56\"/>\n<text text-anchor=\"middle\" x=\"524.659\" y=\"-117.2\" font-family=\"Arial\" font-size=\"16.00\">p = 0.1</text>\n</g>\n<!-- s1&#45;a1&#45;&gt;s2 -->\n<g id=\"edge13\" class=\"edge\"><title>s1&#45;a1&#45;&gt;s2</title>\n<path fill=\"none\" stroke=\"blue\" stroke-dasharray=\"5,2\" d=\"M612.284,-217.291C605.762,-220.054 598.583,-222.586 591.659,-224 533.308,-235.917 517.193,-225.615 457.659,-224 335.305,-220.682 192.402,-211.738 113.167,-206.33\"/>\n<polygon fill=\"blue\" stroke=\"blue\" points=\"113.103,-202.818 102.887,-205.624 112.624,-209.801 113.103,-202.818\"/>\n<text text-anchor=\"middle\" x=\"289.907\" y=\"-224.2\" font-family=\"Arial\" font-size=\"16.00\">p = 0.05</text>\n</g>\n<!-- s1&#45;a1&#45;&gt;s1 -->\n<g id=\"edge14\" class=\"edge\"><title>s1&#45;a1&#45;&gt;s1</title>\n<path fill=\"none\" stroke=\"blue\" stroke-dasharray=\"5,2\" d=\"M609.498,-203.921C574.211,-201.998 510.397,-196.783 457.659,-183 453.54,-181.924 449.34,-180.656 445.149,-179.264\"/>\n<polygon fill=\"blue\" stroke=\"blue\" points=\"446.024,-175.861 435.429,-175.824 443.688,-182.46 446.024,-175.861\"/>\n<text text-anchor=\"middle\" x=\"524.659\" y=\"-208.2\" font-family=\"Arial\" font-size=\"16.00\">p = 0.95</text>\n</g>\n<!-- s0&#45;a0&#45;&gt;s2 -->\n<g id=\"edge16\" class=\"edge\"><title>s0&#45;a0&#45;&gt;s2</title>\n<path fill=\"none\" stroke=\"blue\" stroke-dasharray=\"5,2\" d=\"M1033.96,-187.301C1013.11,-234.446 960.823,-331 882.189,-331 214.329,-331 214.329,-331 214.329,-331 169.272,-331 156.403,-319.554 120.752,-292 107.252,-281.566 95.034,-267.836 84.7851,-254.254\"/>\n<polygon fill=\"blue\" stroke=\"blue\" points=\"87.3797,-251.872 78.6642,-245.847 81.7206,-255.992 87.3797,-251.872\"/>\n<text text-anchor=\"middle\" x=\"524.659\" y=\"-336.2\" font-family=\"Arial\" font-size=\"16.00\">p = 0.5</text>\n</g>\n<!-- s0&#45;a0&#45;&gt;s0 -->\n<g id=\"edge17\" class=\"edge\"><title>s0&#45;a0&#45;&gt;s0</title>\n<path fill=\"none\" stroke=\"blue\" stroke-dasharray=\"5,2\" d=\"M1017.99,-156.672C997.378,-152.471 967.823,-146.449 941.546,-141.095\"/>\n<polygon fill=\"blue\" stroke=\"blue\" points=\"942.158,-137.648 931.661,-139.08 940.761,-144.507 942.158,-137.648\"/>\n<text text-anchor=\"middle\" x=\"975.066\" y=\"-158.2\" font-family=\"Arial\" font-size=\"16.00\">p = 0.5</text>\n</g>\n<!-- s0&#45;a1&#45;&gt;s2 -->\n<g id=\"edge19\" class=\"edge\"><title>s0&#45;a1&#45;&gt;s2</title>\n<path fill=\"none\" stroke=\"blue\" stroke-dasharray=\"5,2\" d=\"M1019.76,-33.7607C988.562,-20.432 932.529,-0 882.189,-0 214.329,-0 214.329,-0 214.329,-0 140.242,-0 94.421,-83.7362 71.1796,-143.382\"/>\n<polygon fill=\"blue\" stroke=\"blue\" points=\"67.7679,-142.51 67.507,-153.101 74.316,-144.984 67.7679,-142.51\"/>\n<text text-anchor=\"middle\" x=\"524.659\" y=\"-5.2\" font-family=\"Arial\" font-size=\"16.00\">p = 1</text>\n</g>\n</g>\n</svg>\n",
      "text/plain": "<graphviz.dot.Digraph at 0x7fda443cadd8>"
     },
     "metadata": {},
     "output_type": "display_data"
    },
    {
     "name": "stdout",
     "text": [
      "iter    0   |   diff: 3.50000   |   V(s2) = 0.000   V(s1) = 0.000   V(s0) = 0.000\n",
      "iter    1   |   diff: 0.64500   |   V(s2) = 0.000   V(s1) = 3.500   V(s0) = 0.000\n",
      "iter    2   |   diff: 0.58050   |   V(s2) = 0.645   V(s1) = 3.815   V(s0) = 0.000\n",
      "iter    3   |   diff: 0.43582   |   V(s2) = 0.962   V(s1) = 3.959   V(s0) = 0.581\n",
      "iter    4   |   diff: 0.30634   |   V(s2) = 1.272   V(s1) = 4.395   V(s0) = 0.866\n",
      "iter    5   |   diff: 0.27571   |   V(s2) = 1.579   V(s1) = 4.670   V(s0) = 1.145\n",
      "iter    6   |   diff: 0.24347   |   V(s2) = 1.838   V(s1) = 4.926   V(s0) = 1.421\n",
      "iter    7   |   diff: 0.21419   |   V(s2) = 2.075   V(s1) = 5.169   V(s0) = 1.655\n",
      "iter    8   |   diff: 0.19277   |   V(s2) = 2.290   V(s1) = 5.381   V(s0) = 1.868\n",
      "iter    9   |   diff: 0.17327   |   V(s2) = 2.481   V(s1) = 5.573   V(s0) = 2.061\n",
      "iter   10   |   diff: 0.15569   |   V(s2) = 2.654   V(s1) = 5.746   V(s0) = 2.233\n",
      "iter   11   |   diff: 0.14012   |   V(s2) = 2.810   V(s1) = 5.902   V(s0) = 2.389\n",
      "iter   12   |   diff: 0.12610   |   V(s2) = 2.950   V(s1) = 6.042   V(s0) = 2.529\n",
      "iter   13   |   diff: 0.11348   |   V(s2) = 3.076   V(s1) = 6.168   V(s0) = 2.655\n",
      "iter   14   |   diff: 0.10213   |   V(s2) = 3.190   V(s1) = 6.282   V(s0) = 2.769\n",
      "iter   15   |   diff: 0.09192   |   V(s2) = 3.292   V(s1) = 6.384   V(s0) = 2.871\n",
      "iter   16   |   diff: 0.08272   |   V(s2) = 3.384   V(s1) = 6.476   V(s0) = 2.963\n",
      "iter   17   |   diff: 0.07445   |   V(s2) = 3.467   V(s1) = 6.558   V(s0) = 3.045\n",
      "iter   18   |   diff: 0.06701   |   V(s2) = 3.541   V(s1) = 6.633   V(s0) = 3.120\n",
      "iter   19   |   diff: 0.06031   |   V(s2) = 3.608   V(s1) = 6.700   V(s0) = 3.187\n",
      "iter   20   |   diff: 0.05428   |   V(s2) = 3.668   V(s1) = 6.760   V(s0) = 3.247\n",
      "iter   21   |   diff: 0.04885   |   V(s2) = 3.723   V(s1) = 6.814   V(s0) = 3.301\n",
      "iter   22   |   diff: 0.04396   |   V(s2) = 3.771   V(s1) = 6.863   V(s0) = 3.350\n",
      "iter   23   |   diff: 0.03957   |   V(s2) = 3.815   V(s1) = 6.907   V(s0) = 3.394\n",
      "iter   24   |   diff: 0.03561   |   V(s2) = 3.855   V(s1) = 6.947   V(s0) = 3.434\n",
      "iter   25   |   diff: 0.03205   |   V(s2) = 3.891   V(s1) = 6.982   V(s0) = 3.469\n",
      "iter   26   |   diff: 0.02884   |   V(s2) = 3.923   V(s1) = 7.014   V(s0) = 3.502\n",
      "iter   27   |   diff: 0.02596   |   V(s2) = 3.951   V(s1) = 7.043   V(s0) = 3.530\n",
      "iter   28   |   diff: 0.02336   |   V(s2) = 3.977   V(s1) = 7.069   V(s0) = 3.556\n",
      "iter   29   |   diff: 0.02103   |   V(s2) = 4.001   V(s1) = 7.093   V(s0) = 3.580\n",
      "iter   30   |   diff: 0.01892   |   V(s2) = 4.022   V(s1) = 7.114   V(s0) = 3.601\n",
      "iter   31   |   diff: 0.01703   |   V(s2) = 4.041   V(s1) = 7.133   V(s0) = 3.620\n",
      "iter   32   |   diff: 0.01533   |   V(s2) = 4.058   V(s1) = 7.150   V(s0) = 3.637\n",
      "iter   33   |   diff: 0.01380   |   V(s2) = 4.073   V(s1) = 7.165   V(s0) = 3.652\n",
      "iter   34   |   diff: 0.01242   |   V(s2) = 4.087   V(s1) = 7.179   V(s0) = 3.666\n",
      "iter   35   |   diff: 0.01117   |   V(s2) = 4.099   V(s1) = 7.191   V(s0) = 3.678\n",
      "iter   36   |   diff: 0.01006   |   V(s2) = 4.110   V(s1) = 7.202   V(s0) = 3.689\n",
      "iter   37   |   diff: 0.00905   |   V(s2) = 4.121   V(s1) = 7.212   V(s0) = 3.699\n",
      "iter   38   |   diff: 0.00815   |   V(s2) = 4.130   V(s1) = 7.221   V(s0) = 3.708\n",
      "iter   39   |   diff: 0.00733   |   V(s2) = 4.138   V(s1) = 7.230   V(s0) = 3.717\n",
      "iter   40   |   diff: 0.00660   |   V(s2) = 4.145   V(s1) = 7.237   V(s0) = 3.724\n",
      "iter   41   |   diff: 0.00594   |   V(s2) = 4.152   V(s1) = 7.244   V(s0) = 3.731\n",
      "iter   42   |   diff: 0.00534   |   V(s2) = 4.158   V(s1) = 7.249   V(s0) = 3.736\n",
      "iter   43   |   diff: 0.00481   |   V(s2) = 4.163   V(s1) = 7.255   V(s0) = 3.742\n",
      "iter   44   |   diff: 0.00433   |   V(s2) = 4.168   V(s1) = 7.260   V(s0) = 3.747\n",
      "iter   45   |   diff: 0.00390   |   V(s2) = 4.172   V(s1) = 7.264   V(s0) = 3.751\n",
      "iter   46   |   diff: 0.00351   |   V(s2) = 4.176   V(s1) = 7.268   V(s0) = 3.755\n",
      "iter   47   |   diff: 0.00316   |   V(s2) = 4.179   V(s1) = 7.271   V(s0) = 3.758\n",
      "iter   48   |   diff: 0.00284   |   V(s2) = 4.183   V(s1) = 7.275   V(s0) = 3.762\n",
      "iter   49   |   diff: 0.00256   |   V(s2) = 4.185   V(s1) = 7.277   V(s0) = 3.764\n",
      "iter   50   |   diff: 0.00230   |   V(s2) = 4.188   V(s1) = 7.280   V(s0) = 3.767\n",
      "iter   51   |   diff: 0.00207   |   V(s2) = 4.190   V(s1) = 7.282   V(s0) = 3.769\n",
      "iter   52   |   diff: 0.00186   |   V(s2) = 4.192   V(s1) = 7.284   V(s0) = 3.771\n",
      "iter   53   |   diff: 0.00168   |   V(s2) = 4.194   V(s1) = 7.286   V(s0) = 3.773\n",
      "iter   54   |   diff: 0.00151   |   V(s2) = 4.196   V(s1) = 7.288   V(s0) = 3.775\n",
      "iter   55   |   diff: 0.00136   |   V(s2) = 4.197   V(s1) = 7.289   V(s0) = 3.776\n",
      "iter   56   |   diff: 0.00122   |   V(s2) = 4.199   V(s1) = 7.291   V(s0) = 3.778\n",
      "iter   57   |   diff: 0.00110   |   V(s2) = 4.200   V(s1) = 7.292   V(s0) = 3.779\n",
      "iter   58   |   diff: 0.00099   |   V(s2) = 4.201   V(s1) = 7.293   V(s0) = 3.780\n",
      "Terminated\n"
     ],
     "output_type": "stream"
    }
   ],
   "source": [
    "# parameters\n",
    "gamma = 0.9            # discount for MDP\n",
    "num_iter = 100         # maximum iterations, excluding initialization\n",
    "# stop VI if new values are this close to old values (or closer)\n",
    "min_difference = 0.001\n",
    "\n",
    "# initialize V(s)\n",
    "state_values = {s: 0 for s in mdp.get_all_states()}\n",
    "\n",
    "if has_graphviz:\n",
    "    display(plot_graph_with_state_values(mdp, state_values))\n",
    "\n",
    "for i in range(num_iter):\n",
    "\n",
    "    # Compute new state values using the functions you defined above.\n",
    "    # It must be a dict {state : float V_new(state)}\n",
    "    \n",
    "    new_state_values = {state:get_new_state_value(mdp, state_values, state, gamma) for state in mdp.get_all_states()}\n",
    "    # print(new_state_values)\n",
    "    assert isinstance(new_state_values, dict)\n",
    "\n",
    "    # Compute difference\n",
    "    diff = max(abs(new_state_values[s] - state_values[s])\n",
    "               for s in mdp.get_all_states())\n",
    "    print(\"iter %4i   |   diff: %6.5f   |   \" % (i, diff), end=\"\")\n",
    "    print('   '.join(\"V(%s) = %.3f\" % (s, v) for s, v in state_values.items()))\n",
    "    state_values = new_state_values\n",
    "\n",
    "    if diff < min_difference:\n",
    "        print(\"Terminated\")\n",
    "        break"
   ]
  },
  {
   "cell_type": "code",
   "execution_count": 24,
   "metadata": {
    "pycharm": {
     "is_executing": false
    }
   },
   "outputs": [
    {
     "data": {
      "image/svg+xml": "<?xml version=\"1.0\" encoding=\"UTF-8\" standalone=\"no\"?>\n<!DOCTYPE svg PUBLIC \"-//W3C//DTD SVG 1.1//EN\"\n \"http://www.w3.org/Graphics/SVG/1.1/DTD/svg11.dtd\">\n<!-- Generated by graphviz version 2.38.0 (20140413.2041)\n -->\n<!-- Title: MDP Pages: 1 -->\n<svg width=\"720pt\" height=\"232pt\"\n viewBox=\"0.00 0.00 720.00 231.58\" xmlns=\"http://www.w3.org/2000/svg\" xmlns:xlink=\"http://www.w3.org/1999/xlink\">\n<g id=\"graph0\" class=\"graph\" transform=\"scale(0.58777 0.58777) rotate(0) translate(4 390)\">\n<title>MDP</title>\n<polygon fill=\"white\" stroke=\"none\" points=\"-4,4 -4,-390 1220.97,-390 1220.97,4 -4,4\"/>\n<!-- s2 -->\n<g id=\"node1\" class=\"node\"><title>s2</title>\n<ellipse fill=\"#85ff75\" stroke=\"#85ff75\" cx=\"75.4178\" cy=\"-236\" rx=\"71.34\" ry=\"71.34\"/>\n<ellipse fill=\"none\" stroke=\"#85ff75\" cx=\"75.4178\" cy=\"-236\" rx=\"75.3357\" ry=\"75.3357\"/>\n<text text-anchor=\"middle\" x=\"75.4178\" y=\"-242.8\" font-family=\"Arial\" font-size=\"24.00\">s2</text>\n<text text-anchor=\"middle\" x=\"75.4178\" y=\"-216.8\" font-family=\"Arial\" font-size=\"24.00\">V =4.20</text>\n</g>\n<!-- s2&#45;a0 -->\n<g id=\"node2\" class=\"node\"><title>s2&#45;a0</title>\n<ellipse fill=\"lightpink\" stroke=\"lightpink\" cx=\"263.413\" cy=\"-312\" rx=\"27.6545\" ry=\"27.6545\"/>\n<text text-anchor=\"middle\" x=\"263.413\" y=\"-307\" font-family=\"Arial\" font-size=\"20.00\">a0</text>\n</g>\n<!-- s2&#45;&gt;s2&#45;a0 -->\n<g id=\"edge1\" class=\"edge\"><title>s2&#45;&gt;s2&#45;a0</title>\n<path fill=\"none\" stroke=\"red\" stroke-width=\"2\" d=\"M145.411,-264.192C173.635,-275.724 205.025,-288.551 228.18,-298.012\"/>\n<polygon fill=\"red\" stroke=\"red\" stroke-width=\"2\" points=\"226.986,-301.305 237.567,-301.848 229.634,-294.825 226.986,-301.305\"/>\n</g>\n<!-- s2&#45;a1 -->\n<g id=\"node4\" class=\"node\"><title>s2&#45;a1</title>\n<ellipse fill=\"lightpink\" stroke=\"lightpink\" cx=\"263.413\" cy=\"-180\" rx=\"27.6545\" ry=\"27.6545\"/>\n<text text-anchor=\"middle\" x=\"263.413\" y=\"-175\" font-family=\"Arial\" font-size=\"20.00\">a1</text>\n</g>\n<!-- s2&#45;&gt;s2&#45;a1 -->\n<g id=\"edge4\" class=\"edge\"><title>s2&#45;&gt;s2&#45;a1</title>\n<path fill=\"none\" stroke=\"red\" stroke-width=\"2\" d=\"M144.758,-206.129C152.792,-203.147 160.939,-200.357 168.836,-198 187.215,-192.514 208.14,-188.305 225.535,-185.342\"/>\n<polygon fill=\"red\" stroke=\"red\" stroke-width=\"2\" points=\"226.55,-188.723 235.855,-183.658 225.422,-181.814 226.55,-188.723\"/>\n</g>\n<!-- s2&#45;a0&#45;&gt;s2 -->\n<g id=\"edge2\" class=\"edge\"><title>s2&#45;a0&#45;&gt;s2</title>\n<path fill=\"none\" stroke=\"blue\" stroke-dasharray=\"5,2\" d=\"M235.909,-308.747C216.785,-305.828 190.609,-300.638 168.836,-292 161.724,-289.179 154.533,-285.835 147.468,-282.207\"/>\n<polygon fill=\"blue\" stroke=\"blue\" points=\"149.073,-279.097 138.602,-277.478 145.778,-285.273 149.073,-279.097\"/>\n<text text-anchor=\"middle\" x=\"193.336\" y=\"-311.2\" font-family=\"Arial\" font-size=\"16.00\">p = 0.6</text>\n</g>\n<!-- s0 -->\n<g id=\"node3\" class=\"node\"><title>s0</title>\n<ellipse fill=\"#85ff75\" stroke=\"#85ff75\" cx=\"1001.4\" cy=\"-139\" rx=\"71.34\" ry=\"71.34\"/>\n<ellipse fill=\"none\" stroke=\"#85ff75\" cx=\"1001.4\" cy=\"-139\" rx=\"75.3357\" ry=\"75.3357\"/>\n<text text-anchor=\"middle\" x=\"1001.4\" y=\"-145.8\" font-family=\"Arial\" font-size=\"24.00\">s0</text>\n<text text-anchor=\"middle\" x=\"1001.4\" y=\"-119.8\" font-family=\"Arial\" font-size=\"24.00\">V =3.78</text>\n</g>\n<!-- s2&#45;a0&#45;&gt;s0 -->\n<g id=\"edge3\" class=\"edge\"><title>s2&#45;a0&#45;&gt;s0</title>\n<path fill=\"none\" stroke=\"blue\" stroke-dasharray=\"5,2\" d=\"M291.224,-313.26C366.894,-316.039 587.86,-318.788 760.98,-267 821.219,-248.98 883.69,-214.982 929.709,-186.552\"/>\n<polygon fill=\"blue\" stroke=\"blue\" points=\"931.766,-189.394 938.397,-181.131 928.06,-183.456 931.766,-189.394\"/>\n<text text-anchor=\"middle\" x=\"620.825\" y=\"-311.2\" font-family=\"Arial\" font-size=\"16.00\">p = 0.4</text>\n</g>\n<!-- s0&#45;a0 -->\n<g id=\"node8\" class=\"node\"><title>s0&#45;a0</title>\n<ellipse fill=\"lightpink\" stroke=\"lightpink\" cx=\"1189.39\" cy=\"-172\" rx=\"27.6545\" ry=\"27.6545\"/>\n<text text-anchor=\"middle\" x=\"1189.39\" y=\"-167\" font-family=\"Arial\" font-size=\"20.00\">a0</text>\n</g>\n<!-- s0&#45;&gt;s0&#45;a0 -->\n<g id=\"edge15\" class=\"edge\"><title>s0&#45;&gt;s0&#45;a0</title>\n<path fill=\"none\" stroke=\"red\" stroke-width=\"2\" d=\"M1076.9,-142.109C1098.71,-144.161 1122.42,-147.52 1143.82,-153 1147.45,-153.932 1151.18,-155.116 1154.84,-156.436\"/>\n<polygon fill=\"red\" stroke=\"red\" stroke-width=\"2\" points=\"1153.75,-159.766 1164.33,-160.17 1156.31,-153.252 1153.75,-159.766\"/>\n</g>\n<!-- s0&#45;a1 -->\n<g id=\"node9\" class=\"node\"><title>s0&#45;a1</title>\n<ellipse fill=\"lightpink\" stroke=\"lightpink\" cx=\"1189.39\" cy=\"-50\" rx=\"27.6545\" ry=\"27.6545\"/>\n<text text-anchor=\"middle\" x=\"1189.39\" y=\"-45\" font-family=\"Arial\" font-size=\"20.00\">a1</text>\n</g>\n<!-- s0&#45;&gt;s0&#45;a1 -->\n<g id=\"edge18\" class=\"edge\"><title>s0&#45;&gt;s0&#45;a1</title>\n<path fill=\"none\" stroke=\"red\" stroke-width=\"2\" d=\"M1069.81,-106.743C1098.68,-92.9268 1131.12,-77.403 1154.77,-66.0897\"/>\n<polygon fill=\"red\" stroke=\"red\" stroke-width=\"2\" points=\"1156.5,-69.1424 1164.01,-61.6688 1153.48,-62.828 1156.5,-69.1424\"/>\n</g>\n<!-- s2&#45;a1&#45;&gt;s2 -->\n<g id=\"edge5\" class=\"edge\"><title>s2&#45;a1&#45;&gt;s2</title>\n<path fill=\"none\" stroke=\"blue\" stroke-dasharray=\"5,2\" d=\"M237.571,-189.953C231.183,-192.38 224.29,-194.885 217.836,-197 198.788,-203.243 178.086,-209.333 158.547,-214.775\"/>\n<polygon fill=\"blue\" stroke=\"blue\" points=\"157.467,-211.442 148.757,-217.475 159.328,-218.19 157.467,-211.442\"/>\n<text text-anchor=\"middle\" x=\"193.336\" y=\"-217.2\" font-family=\"Arial\" font-size=\"16.00\">p = 0.4</text>\n</g>\n<!-- s2&#45;a1&#45;&gt;s0 -->\n<g id=\"edge7\" class=\"edge\"><title>s2&#45;a1&#45;&gt;s0</title>\n<path fill=\"none\" stroke=\"blue\" stroke-dasharray=\"5,2\" d=\"M283.615,-160.634C305.794,-139.775 344.462,-107.849 384.99,-95 569.217,-36.5923 799.455,-82.372 919.335,-114.491\"/>\n<polygon fill=\"blue\" stroke=\"blue\" points=\"918.612,-117.921 929.18,-117.165 920.447,-111.166 918.612,-117.921\"/>\n<text text-anchor=\"middle\" x=\"620.825\" y=\"-77.2\" font-family=\"Arial\" font-size=\"16.00\">p = 0.3 &#160;reward =&#45;1</text>\n</g>\n<!-- s1 -->\n<g id=\"node5\" class=\"node\"><title>s1</title>\n<ellipse fill=\"#85ff75\" stroke=\"#85ff75\" cx=\"460.408\" cy=\"-179\" rx=\"71.34\" ry=\"71.34\"/>\n<ellipse fill=\"none\" stroke=\"#85ff75\" cx=\"460.408\" cy=\"-179\" rx=\"75.3357\" ry=\"75.3357\"/>\n<text text-anchor=\"middle\" x=\"460.408\" y=\"-185.8\" font-family=\"Arial\" font-size=\"24.00\">s1</text>\n<text text-anchor=\"middle\" x=\"460.408\" y=\"-159.8\" font-family=\"Arial\" font-size=\"24.00\">V =7.29</text>\n</g>\n<!-- s2&#45;a1&#45;&gt;s1 -->\n<g id=\"edge6\" class=\"edge\"><title>s2&#45;a1&#45;&gt;s1</title>\n<path fill=\"none\" stroke=\"blue\" stroke-dasharray=\"5,2\" d=\"M291.117,-179.863C312.764,-179.752 344.514,-179.589 374.619,-179.435\"/>\n<polygon fill=\"blue\" stroke=\"blue\" points=\"374.766,-182.934 384.748,-179.383 374.73,-175.934 374.766,-182.934\"/>\n<text text-anchor=\"middle\" x=\"337.99\" y=\"-185.2\" font-family=\"Arial\" font-size=\"16.00\">p = 0.3</text>\n</g>\n<!-- s1&#45;a0 -->\n<g id=\"node6\" class=\"node\"><title>s1&#45;a0</title>\n<ellipse fill=\"lightpink\" stroke=\"lightpink\" cx=\"733.403\" cy=\"-139\" rx=\"27.6545\" ry=\"27.6545\"/>\n<text text-anchor=\"middle\" x=\"733.403\" y=\"-134\" font-family=\"Arial\" font-size=\"20.00\">a0</text>\n</g>\n<!-- s1&#45;&gt;s1&#45;a0 -->\n<g id=\"edge8\" class=\"edge\"><title>s1&#45;&gt;s1&#45;a0</title>\n<path fill=\"none\" stroke=\"red\" stroke-width=\"2\" d=\"M536.063,-177.878C580.683,-175.781 638.167,-170.558 687.825,-158 691.465,-157.08 695.19,-155.903 698.861,-154.587\"/>\n<polygon fill=\"red\" stroke=\"red\" stroke-width=\"2\" points=\"700.324,-157.773 708.352,-150.859 697.765,-151.257 700.324,-157.773\"/>\n</g>\n<!-- s1&#45;a1 -->\n<g id=\"node7\" class=\"node\"><title>s1&#45;a1</title>\n<ellipse fill=\"lightpink\" stroke=\"lightpink\" cx=\"733.403\" cy=\"-230\" rx=\"27.6545\" ry=\"27.6545\"/>\n<text text-anchor=\"middle\" x=\"733.403\" y=\"-225\" font-family=\"Arial\" font-size=\"20.00\">a1</text>\n</g>\n<!-- s1&#45;&gt;s1&#45;a1 -->\n<g id=\"edge12\" class=\"edge\"><title>s1&#45;&gt;s1&#45;a1</title>\n<path fill=\"none\" stroke=\"red\" stroke-width=\"2\" d=\"M535.832,-184.561C580.499,-189.116 638.109,-197.152 687.825,-211 691.442,-212.007 695.152,-213.241 698.814,-214.591\"/>\n<polygon fill=\"red\" stroke=\"red\" stroke-width=\"2\" points=\"697.708,-217.918 708.293,-218.362 700.295,-211.414 697.708,-217.918\"/>\n</g>\n<!-- s1&#45;a0&#45;&gt;s2 -->\n<g id=\"edge9\" class=\"edge\"><title>s1&#45;a0&#45;&gt;s2</title>\n<path fill=\"none\" stroke=\"blue\" stroke-dasharray=\"5,2\" d=\"M724.542,-112.509C717.832,-95.0656 706.276,-73.5679 687.825,-63 614.701,-21.1156 388.711,-52.6866 308.99,-80 246.422,-101.436 184.679,-144.14 140.551,-179.456\"/>\n<polygon fill=\"blue\" stroke=\"blue\" points=\"138.09,-176.945 132.52,-185.957 142.494,-182.385 138.09,-176.945\"/>\n<text text-anchor=\"middle\" x=\"337.99\" y=\"-85.2\" font-family=\"Arial\" font-size=\"16.00\">p = 0.2</text>\n</g>\n<!-- s1&#45;a0&#45;&gt;s0 -->\n<g id=\"edge11\" class=\"edge\"><title>s1&#45;a0&#45;&gt;s0</title>\n<path fill=\"none\" stroke=\"blue\" stroke-dasharray=\"5,2\" d=\"M761.371,-139C797.293,-139 862.497,-139 915.739,-139\"/>\n<polygon fill=\"blue\" stroke=\"blue\" points=\"915.873,-142.5 925.873,-139 915.873,-135.5 915.873,-142.5\"/>\n<text text-anchor=\"middle\" x=\"843.48\" y=\"-144.2\" font-family=\"Arial\" font-size=\"16.00\">p = 0.7 &#160;reward =5</text>\n</g>\n<!-- s1&#45;a0&#45;&gt;s1 -->\n<g id=\"edge10\" class=\"edge\"><title>s1&#45;a0&#45;&gt;s1</title>\n<path fill=\"none\" stroke=\"blue\" stroke-dasharray=\"5,2\" d=\"M705.995,-134.768C670.802,-129.984 606.807,-124.278 553.825,-136 548.18,-137.249 542.471,-138.88 536.805,-140.774\"/>\n<polygon fill=\"blue\" stroke=\"blue\" points=\"535.551,-137.506 527.331,-144.191 537.925,-144.091 535.551,-137.506\"/>\n<text text-anchor=\"middle\" x=\"620.825\" y=\"-141.2\" font-family=\"Arial\" font-size=\"16.00\">p = 0.1</text>\n</g>\n<!-- s1&#45;a1&#45;&gt;s2 -->\n<g id=\"edge13\" class=\"edge\"><title>s1&#45;a1&#45;&gt;s2</title>\n<path fill=\"none\" stroke=\"blue\" stroke-dasharray=\"5,2\" d=\"M708.353,-241.862C701.832,-244.629 694.677,-247.27 687.825,-249 622.049,-265.612 603.595,-259.886 535.825,-263 404.663,-269.028 252.578,-256.19 160.485,-246.224\"/>\n<polygon fill=\"blue\" stroke=\"blue\" points=\"160.707,-242.727 150.385,-245.116 159.944,-249.685 160.707,-242.727\"/>\n<text text-anchor=\"middle\" x=\"337.99\" y=\"-268.2\" font-family=\"Arial\" font-size=\"16.00\">p = 0.05</text>\n</g>\n<!-- s1&#45;a1&#45;&gt;s1 -->\n<g id=\"edge14\" class=\"edge\"><title>s1&#45;a1&#45;&gt;s1</title>\n<path fill=\"none\" stroke=\"blue\" stroke-dasharray=\"5,2\" d=\"M705.827,-228.239C670.719,-225.57 607.099,-219.54 553.825,-208 549.961,-207.163 546.026,-206.235 542.067,-205.24\"/>\n<polygon fill=\"blue\" stroke=\"blue\" points=\"542.764,-201.804 532.202,-202.641 540.981,-208.573 542.764,-201.804\"/>\n<text text-anchor=\"middle\" x=\"620.825\" y=\"-232.2\" font-family=\"Arial\" font-size=\"16.00\">p = 0.95</text>\n</g>\n<!-- s0&#45;a0&#45;&gt;s2 -->\n<g id=\"edge16\" class=\"edge\"><title>s0&#45;a0&#45;&gt;s2</title>\n<path fill=\"none\" stroke=\"blue\" stroke-dasharray=\"5,2\" d=\"M1178.38,-197.624C1155.75,-250.752 1095.28,-368 1002.4,-368 262.413,-368 262.413,-368 262.413,-368 211.612,-368 165.015,-334.847 131.168,-301.77\"/>\n<polygon fill=\"blue\" stroke=\"blue\" points=\"133.247,-298.898 123.71,-294.281 128.286,-303.837 133.247,-298.898\"/>\n<text text-anchor=\"middle\" x=\"620.825\" y=\"-373.2\" font-family=\"Arial\" font-size=\"16.00\">p = 0.5</text>\n</g>\n<!-- s0&#45;a0&#45;&gt;s0 -->\n<g id=\"edge17\" class=\"edge\"><title>s0&#45;a0&#45;&gt;s0</title>\n<path fill=\"none\" stroke=\"blue\" stroke-dasharray=\"5,2\" d=\"M1162.18,-167.348C1142.21,-163.805 1113.54,-158.72 1085.99,-153.831\"/>\n<polygon fill=\"blue\" stroke=\"blue\" points=\"1086.37,-150.343 1075.91,-152.042 1085.14,-157.236 1086.37,-150.343\"/>\n<text text-anchor=\"middle\" x=\"1119.32\" y=\"-170.2\" font-family=\"Arial\" font-size=\"16.00\">p = 0.5</text>\n</g>\n<!-- s0&#45;a1&#45;&gt;s2 -->\n<g id=\"edge19\" class=\"edge\"><title>s0&#45;a1&#45;&gt;s2</title>\n<path fill=\"none\" stroke=\"blue\" stroke-dasharray=\"5,2\" d=\"M1163.99,-39.0273C1128.96,-24.309 1062.08,-0 1002.4,-0 262.413,-0 262.413,-0 262.413,-0 181.574,-0 130.451,-86.4728 102.689,-154.731\"/>\n<polygon fill=\"blue\" stroke=\"blue\" points=\"99.3548,-153.645 98.9261,-164.231 105.863,-156.223 99.3548,-153.645\"/>\n<text text-anchor=\"middle\" x=\"620.825\" y=\"-5.2\" font-family=\"Arial\" font-size=\"16.00\">p = 1</text>\n</g>\n</g>\n</svg>\n",
      "text/plain": "<graphviz.dot.Digraph at 0x7fda443ba748>"
     },
     "metadata": {},
     "output_type": "display_data"
    }
   ],
   "source": [
    "if has_graphviz:\n",
    "    display(plot_graph_with_state_values(mdp, state_values))"
   ]
  },
  {
   "cell_type": "code",
   "execution_count": 25,
   "metadata": {
    "pycharm": {
     "is_executing": false
    }
   },
   "outputs": [
    {
     "name": "stdout",
     "text": [
      "Final state values: {'s2': 4.202140275227047, 's1': 7.294006423867229, 's0': 3.7810348735476396}\n"
     ],
     "output_type": "stream"
    }
   ],
   "source": [
    "print(\"Final state values:\", state_values)\n",
    "\n",
    "assert abs(state_values['s0'] - 3.781) < 0.01\n",
    "assert abs(state_values['s1'] - 7.294) < 0.01\n",
    "assert abs(state_values['s2'] - 4.202) < 0.01"
   ]
  },
  {
   "cell_type": "markdown",
   "metadata": {},
   "source": [
    "Now let's use those $V^{*}(s)$ to find optimal actions in each state\n",
    "\n",
    " $$\\pi^*(s) = argmax_a \\sum_{s'} P(s' | s,a) \\cdot [ r(s,a,s') + \\gamma V_{i}(s')] = argmax_a Q_i(s,a)$$\n",
    " \n",
    "The only difference vs V(s) is that here we take not max but argmax: find action such with maximum Q(s,a)."
   ]
  },
  {
   "cell_type": "code",
   "execution_count": 26,
   "metadata": {
    "pycharm": {
     "is_executing": false
    }
   },
   "outputs": [],
   "source": [
    "def get_optimal_action(mdp, state_values, state, gamma=0.9):\n",
    "    \"\"\" Finds optimal action using formula above. \"\"\"\n",
    "    if mdp.is_terminal(state):\n",
    "        return None\n",
    "\n",
    "    # <YOUR CODE HERE>\n",
    "    Qi = []\n",
    "    \n",
    "    possible_actions = mdp.get_possible_actions(state) \n",
    "    # print(possible_actions)\n",
    "    \n",
    "    for action_prime in possible_actions:\n",
    "        Q = get_action_value(mdp, state_values, state, action_prime, gamma)\n",
    "        Qi.append(Q)\n",
    "    \n",
    "    # print(Qi)\n",
    "\n",
    "    return possible_actions[np.argmax(Qi)]\n"
   ]
  },
  {
   "cell_type": "code",
   "execution_count": 27,
   "metadata": {
    "pycharm": {
     "is_executing": false
    }
   },
   "outputs": [],
   "source": [
    "assert get_optimal_action(mdp, state_values, 's0', gamma) == 'a1'\n",
    "assert get_optimal_action(mdp, state_values, 's1', gamma) == 'a0'\n",
    "assert get_optimal_action(mdp, state_values, 's2', gamma) == 'a1'"
   ]
  },
  {
   "cell_type": "code",
   "execution_count": 28,
   "metadata": {
    "pycharm": {
     "is_executing": false
    }
   },
   "outputs": [
    {
     "data": {
      "image/svg+xml": "<?xml version=\"1.0\" encoding=\"UTF-8\" standalone=\"no\"?>\n<!DOCTYPE svg PUBLIC \"-//W3C//DTD SVG 1.1//EN\"\n \"http://www.w3.org/Graphics/SVG/1.1/DTD/svg11.dtd\">\n<!-- Generated by graphviz version 2.38.0 (20140413.2041)\n -->\n<!-- Title: MDP Pages: 1 -->\n<svg width=\"720pt\" height=\"243pt\"\n viewBox=\"0.00 0.00 720.00 243.34\" xmlns=\"http://www.w3.org/2000/svg\" xmlns:xlink=\"http://www.w3.org/1999/xlink\">\n<g id=\"graph0\" class=\"graph\" transform=\"scale(0.58777 0.58777) rotate(0) translate(4 410)\">\n<title>MDP</title>\n<polygon fill=\"white\" stroke=\"none\" points=\"-4,4 -4,-410 1220.97,-410 1220.97,4 -4,4\"/>\n<!-- s2 -->\n<g id=\"node1\" class=\"node\"><title>s2</title>\n<ellipse fill=\"#85ff75\" stroke=\"#85ff75\" cx=\"75.4178\" cy=\"-145\" rx=\"71.34\" ry=\"71.34\"/>\n<ellipse fill=\"none\" stroke=\"#85ff75\" cx=\"75.4178\" cy=\"-145\" rx=\"75.3357\" ry=\"75.3357\"/>\n<text text-anchor=\"middle\" x=\"75.4178\" y=\"-151.8\" font-family=\"Arial\" font-size=\"24.00\">s2</text>\n<text text-anchor=\"middle\" x=\"75.4178\" y=\"-125.8\" font-family=\"Arial\" font-size=\"24.00\">V =4.20</text>\n</g>\n<!-- s2&#45;a0 -->\n<g id=\"node2\" class=\"node\"><title>s2&#45;a0</title>\n<ellipse fill=\"lightpink\" stroke=\"lightpink\" cx=\"263.413\" cy=\"-56\" rx=\"27.6545\" ry=\"27.6545\"/>\n<text text-anchor=\"middle\" x=\"263.413\" y=\"-51\" font-family=\"Arial\" font-size=\"20.00\">a0</text>\n</g>\n<!-- s2&#45;&gt;s2&#45;a0 -->\n<g id=\"edge1\" class=\"edge\"><title>s2&#45;&gt;s2&#45;a0</title>\n<path fill=\"none\" stroke=\"red\" stroke-width=\"2\" d=\"M125.545,-88.3123C138.415,-76.9498 153.13,-66.5142 168.836,-60 186.665,-52.6051 208.079,-51.2079 225.921,-51.8364\"/>\n<polygon fill=\"red\" stroke=\"red\" stroke-width=\"2\" points=\"225.775,-55.3337 235.958,-52.4104 226.175,-48.3451 225.775,-55.3337\"/>\n</g>\n<!-- s2&#45;a1 -->\n<g id=\"node4\" class=\"node\"><title>s2&#45;a1</title>\n<ellipse fill=\"lightpink\" stroke=\"lightpink\" cx=\"263.413\" cy=\"-187\" rx=\"27.6545\" ry=\"27.6545\"/>\n<text text-anchor=\"middle\" x=\"263.413\" y=\"-182\" font-family=\"Arial\" font-size=\"20.00\">a1</text>\n</g>\n<!-- s2&#45;&gt;s2&#45;a1 -->\n<g id=\"edge4\" class=\"edge\"><title>s2&#45;&gt;s2&#45;a1</title>\n<path fill=\"none\" stroke=\"red\" stroke-width=\"2\" d=\"M150.195,-155.04C176.987,-160.723 206.005,-167.686 227.82,-173.798\"/>\n<polygon fill=\"red\" stroke=\"red\" stroke-width=\"2\" points=\"227.026,-177.212 237.605,-176.63 228.972,-170.488 227.026,-177.212\"/>\n</g>\n<!-- s2&#45;&gt;s2&#45;a1 -->\n<g id=\"edge20\" class=\"edge\"><title>s2&#45;&gt;s2&#45;a1</title>\n<path fill=\"none\" stroke=\"green\" stroke-width=\"6\" d=\"M147.531,-167.639C174.09,-174.054 203.175,-180.266 225.434,-184.165\"/>\n<polygon fill=\"green\" stroke=\"green\" stroke-width=\"6\" points=\"224.732,-189.371 235.459,-185.835 226.458,-179.013 224.732,-189.371\"/>\n</g>\n<!-- s2&#45;a0&#45;&gt;s2 -->\n<g id=\"edge2\" class=\"edge\"><title>s2&#45;a0&#45;&gt;s2</title>\n<path fill=\"none\" stroke=\"blue\" stroke-dasharray=\"5,2\" d=\"M236.136,-60.1069C216.89,-63.7347 190.464,-70.0283 168.836,-80 160.529,-83.83 152.181,-88.4215 144.084,-93.3699\"/>\n<polygon fill=\"blue\" stroke=\"blue\" points=\"141.988,-90.5548 135.41,-98.8605 145.731,-96.4695 141.988,-90.5548\"/>\n<text text-anchor=\"middle\" x=\"193.336\" y=\"-85.2\" font-family=\"Arial\" font-size=\"16.00\">p = 0.6</text>\n</g>\n<!-- s0 -->\n<g id=\"node3\" class=\"node\"><title>s0</title>\n<ellipse fill=\"#85ff75\" stroke=\"#85ff75\" cx=\"1001.4\" cy=\"-144\" rx=\"71.34\" ry=\"71.34\"/>\n<ellipse fill=\"none\" stroke=\"#85ff75\" cx=\"1001.4\" cy=\"-144\" rx=\"75.3357\" ry=\"75.3357\"/>\n<text text-anchor=\"middle\" x=\"1001.4\" y=\"-150.8\" font-family=\"Arial\" font-size=\"24.00\">s0</text>\n<text text-anchor=\"middle\" x=\"1001.4\" y=\"-124.8\" font-family=\"Arial\" font-size=\"24.00\">V =3.78</text>\n</g>\n<!-- s2&#45;a0&#45;&gt;s0 -->\n<g id=\"edge3\" class=\"edge\"><title>s2&#45;a0&#45;&gt;s0</title>\n<path fill=\"none\" stroke=\"blue\" stroke-dasharray=\"5,2\" d=\"M291.304,-55.6053C358.495,-54.9657 539.003,-55.3838 687.825,-75 767.057,-85.4435 855.907,-105.927 918.567,-121.876\"/>\n<polygon fill=\"blue\" stroke=\"blue\" points=\"917.838,-125.302 928.394,-124.394 919.576,-118.521 917.838,-125.302\"/>\n<text text-anchor=\"middle\" x=\"620.825\" y=\"-80.2\" font-family=\"Arial\" font-size=\"16.00\">p = 0.4</text>\n</g>\n<!-- s0&#45;a0 -->\n<g id=\"node8\" class=\"node\"><title>s0&#45;a0</title>\n<ellipse fill=\"lightpink\" stroke=\"lightpink\" cx=\"1189.39\" cy=\"-197\" rx=\"27.6545\" ry=\"27.6545\"/>\n<text text-anchor=\"middle\" x=\"1189.39\" y=\"-192\" font-family=\"Arial\" font-size=\"20.00\">a0</text>\n</g>\n<!-- s0&#45;&gt;s0&#45;a0 -->\n<g id=\"edge15\" class=\"edge\"><title>s0&#45;&gt;s0&#45;a0</title>\n<path fill=\"none\" stroke=\"red\" stroke-width=\"2\" d=\"M1075.92,-157.456C1098.02,-162.349 1122.15,-168.547 1143.82,-176 1147.53,-177.279 1151.35,-178.775 1155.11,-180.369\"/>\n<polygon fill=\"red\" stroke=\"red\" stroke-width=\"2\" points=\"1153.71,-183.575 1164.27,-184.466 1156.57,-177.186 1153.71,-183.575\"/>\n</g>\n<!-- s0&#45;a1 -->\n<g id=\"node9\" class=\"node\"><title>s0&#45;a1</title>\n<ellipse fill=\"lightpink\" stroke=\"lightpink\" cx=\"1189.39\" cy=\"-124\" rx=\"27.6545\" ry=\"27.6545\"/>\n<text text-anchor=\"middle\" x=\"1189.39\" y=\"-119\" font-family=\"Arial\" font-size=\"20.00\">a1</text>\n</g>\n<!-- s0&#45;&gt;s0&#45;a1 -->\n<g id=\"edge18\" class=\"edge\"><title>s0&#45;&gt;s0&#45;a1</title>\n<path fill=\"none\" stroke=\"red\" stroke-width=\"2\" d=\"M1075.64,-129.511C1101.67,-126.345 1129.87,-123.681 1151.56,-122.453\"/>\n<polygon fill=\"red\" stroke=\"red\" stroke-width=\"2\" points=\"1151.82,-125.944 1161.64,-121.969 1151.49,-118.952 1151.82,-125.944\"/>\n</g>\n<!-- s0&#45;&gt;s0&#45;a1 -->\n<g id=\"edge22\" class=\"edge\"><title>s0&#45;&gt;s0&#45;a1</title>\n<path fill=\"none\" stroke=\"green\" stroke-width=\"6\" d=\"M1076.98,-142.611C1103.03,-140.151 1131.1,-136.742 1152.54,-133.312\"/>\n<polygon fill=\"green\" stroke=\"green\" stroke-width=\"6\" points=\"1153.51,-138.473 1162.5,-131.631 1151.77,-128.119 1153.51,-138.473\"/>\n</g>\n<!-- s2&#45;a1&#45;&gt;s2 -->\n<g id=\"edge5\" class=\"edge\"><title>s2&#45;a1&#45;&gt;s2</title>\n<path fill=\"none\" stroke=\"blue\" stroke-dasharray=\"5,2\" d=\"M246.156,-165.315C238.576,-156.99 228.804,-148.428 217.836,-144 199.902,-136.76 179.616,-134.07 160.123,-133.816\"/>\n<polygon fill=\"blue\" stroke=\"blue\" points=\"159.991,-130.317 150.018,-133.894 160.044,-137.316 159.991,-130.317\"/>\n<text text-anchor=\"middle\" x=\"193.336\" y=\"-149.2\" font-family=\"Arial\" font-size=\"16.00\">p = 0.4</text>\n</g>\n<!-- s2&#45;a1&#45;&gt;s0 -->\n<g id=\"edge7\" class=\"edge\"><title>s2&#45;a1&#45;&gt;s0</title>\n<path fill=\"none\" stroke=\"blue\" stroke-dasharray=\"5,2\" d=\"M290.559,-180.493C314.851,-174.759 352.12,-166.752 384.99,-163 573.579,-141.47 796.642,-140.667 915.614,-142.195\"/>\n<polygon fill=\"blue\" stroke=\"blue\" points=\"915.7,-145.697 925.748,-142.334 915.797,-138.697 915.7,-145.697\"/>\n<text text-anchor=\"middle\" x=\"620.825\" y=\"-154.2\" font-family=\"Arial\" font-size=\"16.00\">p = 0.3 &#160;reward =&#45;1</text>\n</g>\n<!-- s1 -->\n<g id=\"node5\" class=\"node\"><title>s1</title>\n<ellipse fill=\"#85ff75\" stroke=\"#85ff75\" cx=\"460.408\" cy=\"-247\" rx=\"71.34\" ry=\"71.34\"/>\n<ellipse fill=\"none\" stroke=\"#85ff75\" cx=\"460.408\" cy=\"-247\" rx=\"75.3357\" ry=\"75.3357\"/>\n<text text-anchor=\"middle\" x=\"460.408\" y=\"-253.8\" font-family=\"Arial\" font-size=\"24.00\">s1</text>\n<text text-anchor=\"middle\" x=\"460.408\" y=\"-227.8\" font-family=\"Arial\" font-size=\"24.00\">V =7.29</text>\n</g>\n<!-- s2&#45;a1&#45;&gt;s1 -->\n<g id=\"edge6\" class=\"edge\"><title>s2&#45;a1&#45;&gt;s1</title>\n<path fill=\"none\" stroke=\"blue\" stroke-dasharray=\"5,2\" d=\"M289.905,-194.844C312.452,-201.782 346.607,-212.291 378.363,-222.063\"/>\n<polygon fill=\"blue\" stroke=\"blue\" points=\"377.539,-225.471 388.126,-225.067 379.598,-218.78 377.539,-225.471\"/>\n<text text-anchor=\"middle\" x=\"337.99\" y=\"-224.2\" font-family=\"Arial\" font-size=\"16.00\">p = 0.3</text>\n</g>\n<!-- s1&#45;a0 -->\n<g id=\"node6\" class=\"node\"><title>s1&#45;a0</title>\n<ellipse fill=\"lightpink\" stroke=\"lightpink\" cx=\"733.403\" cy=\"-203\" rx=\"27.6545\" ry=\"27.6545\"/>\n<text text-anchor=\"middle\" x=\"733.403\" y=\"-198\" font-family=\"Arial\" font-size=\"20.00\">a0</text>\n</g>\n<!-- s1&#45;&gt;s1&#45;a0 -->\n<g id=\"edge8\" class=\"edge\"><title>s1&#45;&gt;s1&#45;a0</title>\n<path fill=\"none\" stroke=\"red\" stroke-width=\"2\" d=\"M531.405,-221.406C538.953,-219.783 546.535,-218.295 553.825,-217 602.707,-208.319 659.67,-201.557 695.873,-199.823\"/>\n<polygon fill=\"red\" stroke=\"red\" stroke-width=\"2\" points=\"696.091,-203.317 705.959,-199.459 695.839,-196.322 696.091,-203.317\"/>\n</g>\n<!-- s1&#45;&gt;s1&#45;a0 -->\n<g id=\"edge21\" class=\"edge\"><title>s1&#45;&gt;s1&#45;a0</title>\n<path fill=\"none\" stroke=\"green\" stroke-width=\"6\" d=\"M535.432,-238.499C541.639,-237.26 547.831,-236.065 553.825,-235 603.267,-226.219 660.977,-219.402 697.109,-213.318\"/>\n<polygon fill=\"green\" stroke=\"green\" stroke-width=\"6\" points=\"698.221,-218.452 707.15,-211.536 696.386,-208.114 698.221,-218.452\"/>\n</g>\n<!-- s1&#45;a1 -->\n<g id=\"node7\" class=\"node\"><title>s1&#45;a1</title>\n<ellipse fill=\"lightpink\" stroke=\"lightpink\" cx=\"733.403\" cy=\"-319\" rx=\"27.6545\" ry=\"27.6545\"/>\n<text text-anchor=\"middle\" x=\"733.403\" y=\"-314\" font-family=\"Arial\" font-size=\"20.00\">a1</text>\n</g>\n<!-- s1&#45;&gt;s1&#45;a1 -->\n<g id=\"edge12\" class=\"edge\"><title>s1&#45;&gt;s1&#45;a1</title>\n<path fill=\"none\" stroke=\"red\" stroke-width=\"2\" d=\"M521.999,-290.661C532.225,-296.35 543.034,-301.432 553.825,-305 600.853,-320.55 658.49,-322.17 695.329,-321.174\"/>\n<polygon fill=\"red\" stroke=\"red\" stroke-width=\"2\" points=\"695.73,-324.662 705.601,-320.814 695.484,-317.667 695.73,-324.662\"/>\n</g>\n<!-- s1&#45;a0&#45;&gt;s2 -->\n<g id=\"edge9\" class=\"edge\"><title>s1&#45;a0&#45;&gt;s2</title>\n<path fill=\"none\" stroke=\"blue\" stroke-dasharray=\"5,2\" d=\"M721.653,-177.842C714.299,-164.024 703.1,-148.09 687.825,-140 503.199,-42.215 426.749,-133 217.836,-131 196.059,-130.792 190.552,-129.364 168.836,-131 165.953,-131.217 163.024,-131.472 160.07,-131.758\"/>\n<polygon fill=\"blue\" stroke=\"blue\" points=\"159.524,-128.296 149.954,-132.841 160.27,-135.256 159.524,-128.296\"/>\n<text text-anchor=\"middle\" x=\"337.99\" y=\"-131.2\" font-family=\"Arial\" font-size=\"16.00\">p = 0.2</text>\n</g>\n<!-- s1&#45;a0&#45;&gt;s0 -->\n<g id=\"edge11\" class=\"edge\"><title>s1&#45;a0&#45;&gt;s0</title>\n<path fill=\"none\" stroke=\"blue\" stroke-dasharray=\"5,2\" d=\"M760.392,-197.235C796.511,-189.224 863.543,-174.356 917.604,-162.364\"/>\n<polygon fill=\"blue\" stroke=\"blue\" points=\"918.532,-165.744 927.537,-160.161 917.016,-158.91 918.532,-165.744\"/>\n<text text-anchor=\"middle\" x=\"843.48\" y=\"-199.2\" font-family=\"Arial\" font-size=\"16.00\">p = 0.7 &#160;reward =5</text>\n</g>\n<!-- s1&#45;a0&#45;&gt;s1 -->\n<g id=\"edge10\" class=\"edge\"><title>s1&#45;a0&#45;&gt;s1</title>\n<path fill=\"none\" stroke=\"blue\" stroke-dasharray=\"5,2\" d=\"M708.39,-215.438C701.868,-218.351 694.704,-221.143 687.825,-223 641.896,-235.399 589.11,-241.444 546.065,-244.369\"/>\n<polygon fill=\"blue\" stroke=\"blue\" points=\"545.667,-240.888 535.908,-245.015 546.11,-247.874 545.667,-240.888\"/>\n<text text-anchor=\"middle\" x=\"620.825\" y=\"-249.2\" font-family=\"Arial\" font-size=\"16.00\">p = 0.1</text>\n</g>\n<!-- s1&#45;a1&#45;&gt;s2 -->\n<g id=\"edge13\" class=\"edge\"><title>s1&#45;a1&#45;&gt;s2</title>\n<path fill=\"none\" stroke=\"blue\" stroke-dasharray=\"5,2\" d=\"M706.497,-325.114C647.91,-337.824 501.279,-363.338 384.99,-331 293.186,-305.471 201.376,-244.463 142.074,-199.24\"/>\n<polygon fill=\"blue\" stroke=\"blue\" points=\"143.985,-196.294 133.925,-192.969 139.716,-201.841 143.985,-196.294\"/>\n<text text-anchor=\"middle\" x=\"337.99\" y=\"-330.2\" font-family=\"Arial\" font-size=\"16.00\">p = 0.05</text>\n</g>\n<!-- s1&#45;a1&#45;&gt;s1 -->\n<g id=\"edge14\" class=\"edge\"><title>s1&#45;a1&#45;&gt;s1</title>\n<path fill=\"none\" stroke=\"blue\" stroke-dasharray=\"5,2\" d=\"M713.08,-299.606C705.746,-293.327 696.948,-286.966 687.825,-283 632.662,-259.018 613.195,-273.665 553.825,-264 550.823,-263.511 547.767,-263.003 544.682,-262.482\"/>\n<polygon fill=\"blue\" stroke=\"blue\" points=\"545.207,-259.021 534.759,-260.777 544.022,-265.92 545.207,-259.021\"/>\n<text text-anchor=\"middle\" x=\"620.825\" y=\"-288.2\" font-family=\"Arial\" font-size=\"16.00\">p = 0.95</text>\n</g>\n<!-- s0&#45;a0&#45;&gt;s2 -->\n<g id=\"edge16\" class=\"edge\"><title>s0&#45;a0&#45;&gt;s2</title>\n<path fill=\"none\" stroke=\"blue\" stroke-dasharray=\"5,2\" d=\"M1178.01,-222.363C1154.88,-274.319 1093.81,-388 1002.4,-388 262.413,-388 262.413,-388 262.413,-388 179.282,-388 128.288,-297.215 101.201,-226.626\"/>\n<polygon fill=\"blue\" stroke=\"blue\" points=\"104.477,-225.392 97.697,-217.25 97.9198,-227.843 104.477,-225.392\"/>\n<text text-anchor=\"middle\" x=\"620.825\" y=\"-393.2\" font-family=\"Arial\" font-size=\"16.00\">p = 0.5</text>\n</g>\n<!-- s0&#45;a0&#45;&gt;s0 -->\n<g id=\"edge17\" class=\"edge\"><title>s0&#45;a0&#45;&gt;s0</title>\n<path fill=\"none\" stroke=\"blue\" stroke-dasharray=\"5,2\" d=\"M1162.04,-191.064C1143.22,-186.692 1117.34,-180.415 1094.82,-174 1090.85,-172.869 1086.79,-171.681 1082.7,-170.456\"/>\n<polygon fill=\"blue\" stroke=\"blue\" points=\"1083.71,-167.106 1073.13,-167.541 1081.68,-173.802 1083.71,-167.106\"/>\n<text text-anchor=\"middle\" x=\"1119.32\" y=\"-192.2\" font-family=\"Arial\" font-size=\"16.00\">p = 0.5</text>\n</g>\n<!-- s0&#45;a1&#45;&gt;s2 -->\n<g id=\"edge19\" class=\"edge\"><title>s0&#45;a1&#45;&gt;s2</title>\n<path fill=\"none\" stroke=\"blue\" stroke-dasharray=\"5,2\" d=\"M1171.68,-102.684C1141.82,-67.2302 1075.55,-0 1002.4,-0 262.413,-0 262.413,-0 262.413,-0 208.324,-0 160.53,-38.6115 126.938,-75.9852\"/>\n<polygon fill=\"blue\" stroke=\"blue\" points=\"123.939,-74.0968 119.988,-83.9272 129.207,-78.7066 123.939,-74.0968\"/>\n<text text-anchor=\"middle\" x=\"620.825\" y=\"-5.2\" font-family=\"Arial\" font-size=\"16.00\">p = 1</text>\n</g>\n</g>\n</svg>\n",
      "text/plain": "<graphviz.dot.Digraph at 0x7fda443ba2b0>"
     },
     "metadata": {},
     "output_type": "display_data"
    }
   ],
   "source": [
    "if has_graphviz:\n",
    "    try:\n",
    "        display(plot_graph_optimal_strategy_and_state_values(mdp, state_values))\n",
    "    except ImportError:\n",
    "        raise ImportError(\"Run the cell that starts with \\\"%%writefile mdp_get_action_value.py\\\"\")"
   ]
  },
  {
   "cell_type": "code",
   "execution_count": 29,
   "metadata": {
    "pycharm": {
     "is_executing": false
    }
   },
   "outputs": [
    {
     "name": "stdout",
     "text": [
      "average reward:  0.4466\n"
     ],
     "output_type": "stream"
    }
   ],
   "source": [
    "# Measure agent's average reward\n",
    "\n",
    "s = mdp.reset()\n",
    "rewards = []\n",
    "for _ in range(10000):\n",
    "    s, r, done, _ = mdp.step(get_optimal_action(mdp, state_values, s, gamma))\n",
    "    rewards.append(r)\n",
    "\n",
    "print(\"average reward: \", np.mean(rewards))\n",
    "\n",
    "assert(0.40 < np.mean(rewards) < 0.55)"
   ]
  },
  {
   "cell_type": "markdown",
   "metadata": {},
   "source": [
    "### Frozen lake"
   ]
  },
  {
   "cell_type": "code",
   "execution_count": 30,
   "metadata": {
    "pycharm": {
     "is_executing": false
    }
   },
   "outputs": [
    {
     "name": "stdout",
     "text": [
      "*FFF\n",
      "FHFH\n",
      "FFFH\n",
      "HFFG\n",
      "\n"
     ],
     "output_type": "stream"
    }
   ],
   "source": [
    "from mdp import FrozenLakeEnv\n",
    "mdp = FrozenLakeEnv(slip_chance=0)\n",
    "\n",
    "mdp.render()"
   ]
  },
  {
   "cell_type": "code",
   "execution_count": 31,
   "metadata": {
    "pycharm": {
     "is_executing": false
    }
   },
   "outputs": [],
   "source": [
    "def value_iteration(mdp, state_values=None, gamma=0.9, num_iter=1000, min_difference=1e-5):\n",
    "    \"\"\" performs num_iter value iteration steps starting from state_values. Same as before but in a function \"\"\"\n",
    "    state_values = state_values or {s: 0 for s in mdp.get_all_states()}\n",
    "    for i in range(num_iter):\n",
    "\n",
    "        # Compute new state values using the functions you defined above. It must be a dict {state : new_V(state)}\n",
    "        new_state_values = {state:get_new_state_value(mdp, state_values, state, gamma) for state in mdp.get_all_states()}\n",
    "\n",
    "        assert isinstance(new_state_values, dict)\n",
    "\n",
    "        # Compute difference\n",
    "        diff = max(abs(new_state_values[s] - state_values[s])\n",
    "                   for s in mdp.get_all_states())\n",
    "\n",
    "        print(\"iter %4i   |   diff: %6.5f   |   V(start): %.3f \" %\n",
    "              (i, diff, new_state_values[mdp._initial_state]))\n",
    "\n",
    "        state_values = new_state_values\n",
    "        if diff < min_difference:\n",
    "            break\n",
    "\n",
    "    return state_values"
   ]
  },
  {
   "cell_type": "code",
   "execution_count": 32,
   "metadata": {
    "pycharm": {
     "is_executing": false
    }
   },
   "outputs": [
    {
     "name": "stdout",
     "text": [
      "iter    0   |   diff: 1.00000   |   V(start): 0.000 \n",
      "iter    1   |   diff: 0.90000   |   V(start): 0.000 \n",
      "iter    2   |   diff: 0.81000   |   V(start): 0.000 \n",
      "iter    3   |   diff: 0.72900   |   V(start): 0.000 \n",
      "iter    4   |   diff: 0.65610   |   V(start): 0.000 \n",
      "iter    5   |   diff: 0.59049   |   V(start): 0.590 \n",
      "iter    6   |   diff: 0.00000   |   V(start): 0.590 \n"
     ],
     "output_type": "stream"
    }
   ],
   "source": [
    "state_values = value_iteration(mdp)"
   ]
  },
  {
   "cell_type": "code",
   "execution_count": 33,
   "metadata": {
    "pycharm": {
     "is_executing": false
    }
   },
   "outputs": [
    {
     "name": "stdout",
     "text": [
      "*FFF\n",
      "FHFH\n",
      "FFFH\n",
      "HFFG\n",
      "\n",
      "right\n",
      "\n",
      "S*FF\n",
      "FHFH\n",
      "FFFH\n",
      "HFFG\n",
      "\n",
      "right\n",
      "\n",
      "SF*F\n",
      "FHFH\n",
      "FFFH\n",
      "HFFG\n",
      "\n",
      "down\n",
      "\n",
      "SFFF\n",
      "FH*H\n",
      "FFFH\n",
      "HFFG\n",
      "\n",
      "down\n",
      "\n",
      "SFFF\n",
      "FHFH\n",
      "FF*H\n",
      "HFFG\n",
      "\n",
      "down\n",
      "\n",
      "SFFF\n",
      "FHFH\n",
      "FFFH\n",
      "HF*G\n",
      "\n",
      "right\n",
      "\n",
      "SFFF\n",
      "FHFH\n",
      "FFFH\n",
      "HFF*\n",
      "\n"
     ],
     "output_type": "stream"
    }
   ],
   "source": [
    "s = mdp.reset()\n",
    "mdp.render()\n",
    "for t in range(100):\n",
    "    a = get_optimal_action(mdp, state_values, s, gamma)\n",
    "    print(a, end='\\n\\n')\n",
    "    s, r, done, _ = mdp.step(a)\n",
    "    mdp.render()\n",
    "    if done:\n",
    "        break"
   ]
  },
  {
   "cell_type": "markdown",
   "metadata": {},
   "source": [
    "### Let's visualize!\n",
    "\n",
    "It's usually interesting to see what your algorithm actually learned under the hood. To do so, we'll plot state value functions and optimal actions at each VI step."
   ]
  },
  {
   "cell_type": "code",
   "execution_count": 34,
   "metadata": {
    "pycharm": {
     "is_executing": false
    }
   },
   "outputs": [],
   "source": [
    "import matplotlib.pyplot as plt\n",
    "%matplotlib inline\n",
    "\n",
    "\n",
    "def draw_policy(mdp, state_values):\n",
    "    plt.figure(figsize=(3, 3))\n",
    "    h, w = mdp.desc.shape\n",
    "    states = sorted(mdp.get_all_states())\n",
    "    V = np.array([state_values[s] for s in states])\n",
    "    Pi = {s: get_optimal_action(mdp, state_values, s, gamma) for s in states}\n",
    "    plt.imshow(V.reshape(w, h), cmap='gray', interpolation='none', clim=(0, 1))\n",
    "    ax = plt.gca()\n",
    "    ax.set_xticks(np.arange(h)-.5)\n",
    "    ax.set_yticks(np.arange(w)-.5)\n",
    "    ax.set_xticklabels([])\n",
    "    ax.set_yticklabels([])\n",
    "    Y, X = np.mgrid[0:4, 0:4]\n",
    "    a2uv = {'left': (-1, 0), 'down': (0, -1), 'right': (1, 0), 'up': (0, 1)}\n",
    "    for y in range(h):\n",
    "        for x in range(w):\n",
    "            plt.text(x, y, str(mdp.desc[y, x].item()),\n",
    "                     color='g', size=12,  verticalalignment='center',\n",
    "                     horizontalalignment='center', fontweight='bold')\n",
    "            a = Pi[y, x]\n",
    "            if a is None:\n",
    "                continue\n",
    "            u, v = a2uv[a]\n",
    "            plt.arrow(x, y, u*.3, -v*.3, color='m',\n",
    "                      head_width=0.1, head_length=0.1)\n",
    "    plt.grid(color='b', lw=2, ls='-')\n",
    "    plt.show()"
   ]
  },
  {
   "cell_type": "code",
   "execution_count": 35,
   "metadata": {
    "pycharm": {
     "is_executing": false
    }
   },
   "outputs": [
    {
     "name": "stdout",
     "text": [
      "after iteration 0\n",
      "iter    0   |   diff: 1.00000   |   V(start): 0.000 \n",
      "after iteration 1\n",
      "iter    0   |   diff: 0.90000   |   V(start): 0.000 \n",
      "after iteration 2\n",
      "iter    0   |   diff: 0.81000   |   V(start): 0.000 \n",
      "after iteration 3\n",
      "iter    0   |   diff: 0.72900   |   V(start): 0.000 \n",
      "after iteration 4\n",
      "iter    0   |   diff: 0.65610   |   V(start): 0.000 \n",
      "after iteration 5\n",
      "iter    0   |   diff: 0.59049   |   V(start): 0.590 \n",
      "after iteration 6\n",
      "iter    0   |   diff: 0.00000   |   V(start): 0.590 \n",
      "after iteration 7\n",
      "iter    0   |   diff: 0.00000   |   V(start): 0.590 \n",
      "after iteration 8\n",
      "iter    0   |   diff: 0.00000   |   V(start): 0.590 \n",
      "after iteration 9\n",
      "iter    0   |   diff: 0.00000   |   V(start): 0.590 \n"
     ],
     "output_type": "stream"
    },
    {
     "data": {
      "image/png": "[encoded data removed]",
      "text/plain": "<Figure size 216x216 with 1 Axes>"
     },
     "metadata": {
      "needs_background": "light"
     },
     "output_type": "display_data"
    },
    {
     "data": {
      "image/png": "[encoded data removed]",
      "text/plain": "<Figure size 216x216 with 1 Axes>"
     },
     "metadata": {
      "needs_background": "light"
     },
     "output_type": "display_data"
    },
    {
     "data": {
      "image/png": "[encoded data removed]",
      "text/plain": "<Figure size 216x216 with 1 Axes>"
     },
     "metadata": {
      "needs_background": "light"
     },
     "output_type": "display_data"
    },
    {
     "data": {
      "image/png": "[encoded data removed]",
      "text/plain": "<Figure size 216x216 with 1 Axes>"
     },
     "metadata": {
      "needs_background": "light"
     },
     "output_type": "display_data"
    },
    {
     "data": {
      "image/png": "[encoded data removed]",
      "text/plain": "<Figure size 216x216 with 1 Axes>"
     },
     "metadata": {
      "needs_background": "light"
     },
     "output_type": "display_data"
    },
    {
     "data": {
      "image/png": "[encoded data removed]",
      "text/plain": "<Figure size 216x216 with 1 Axes>"
     },
     "metadata": {
      "needs_background": "light"
     },
     "output_type": "display_data"
    },
    {
     "data": {
      "image/png": "[encoded data removed]",
      "text/plain": "<Figure size 216x216 with 1 Axes>"
     },
     "metadata": {
      "needs_background": "light"
     },
     "output_type": "display_data"
    },
    {
     "data": {
      "image/png": "[encoded data removed]",
      "text/plain": "<Figure size 216x216 with 1 Axes>"
     },
     "metadata": {
      "needs_background": "light"
     },
     "output_type": "display_data"
    },
    {
     "data": {
      "image/png": "[encoded data removed]",
      "text/plain": "<Figure size 216x216 with 1 Axes>"
     },
     "metadata": {
      "needs_background": "light"
     },
     "output_type": "display_data"
    },
    {
     "data": {
      "image/png": "[encoded data removed]",
      "text/plain": "<Figure size 216x216 with 1 Axes>"
     },
     "metadata": {
      "needs_background": "light"
     },
     "output_type": "display_data"
    }
   ],
   "source": [
    "state_values = {s: 0 for s in mdp.get_all_states()}\n",
    "\n",
    "for i in range(10):\n",
    "    print(\"after iteration %i\" % i)\n",
    "    state_values = value_iteration(mdp, state_values, num_iter=1)\n",
    "    draw_policy(mdp, state_values)\n",
    "# please ignore iter 0 at each step"
   ]
  },
  {
   "cell_type": "code",
   "execution_count": 36,
   "metadata": {
    "pycharm": {
     "is_executing": false
    }
   },
   "outputs": [
    {
     "name": "stdout",
     "text": [
      "after iteration 29\n",
      "iter    0   |   diff: 0.00000   |   V(start): 0.198 \n"
     ],
     "output_type": "stream"
    },
    {
     "data": {
      "image/png": "[encoded data removed]",
      "text/plain": "<Figure size 216x216 with 1 Axes>"
     },
     "metadata": {
      "needs_background": "light"
     },
     "output_type": "display_data"
    }
   ],
   "source": [
    "from IPython.display import clear_output\n",
    "from time import sleep\n",
    "mdp = FrozenLakeEnv(map_name='8x8', slip_chance=0.1)\n",
    "state_values = {s: 0 for s in mdp.get_all_states()}\n",
    "\n",
    "for i in range(30):\n",
    "    clear_output(True)\n",
    "    print(\"after iteration %i\" % i)\n",
    "    state_values = value_iteration(mdp, state_values, num_iter=1)\n",
    "    draw_policy(mdp, state_values)\n",
    "    sleep(0.5)\n",
    "# please ignore iter 0 at each step"
   ]
  },
  {
   "cell_type": "markdown",
   "metadata": {},
   "source": [
    "Massive tests"
   ]
  },
  {
   "cell_type": "code",
   "execution_count": 37,
   "metadata": {
    "pycharm": {
     "is_executing": false
    }
   },
   "outputs": [
    {
     "name": "stdout",
     "text": [
      "iter    0   |   diff: 1.00000   |   V(start): 0.000 \n",
      "iter    1   |   diff: 0.90000   |   V(start): 0.000 \n",
      "iter    2   |   diff: 0.81000   |   V(start): 0.000 \n",
      "iter    3   |   diff: 0.72900   |   V(start): 0.000 \n",
      "iter    4   |   diff: 0.65610   |   V(start): 0.000 \n",
      "iter    5   |   diff: 0.59049   |   V(start): 0.590 \n",
      "iter    6   |   diff: 0.00000   |   V(start): 0.590 \n",
      "average reward:  1.0\n",
      "Well done!\n"
     ],
     "output_type": "stream"
    }
   ],
   "source": [
    "mdp = FrozenLakeEnv(slip_chance=0)\n",
    "state_values = value_iteration(mdp)\n",
    "\n",
    "total_rewards = []\n",
    "for game_i in range(1000):\n",
    "    s = mdp.reset()\n",
    "    rewards = []\n",
    "    for t in range(100):\n",
    "        s, r, done, _ = mdp.step(\n",
    "            get_optimal_action(mdp, state_values, s, gamma))\n",
    "        rewards.append(r)\n",
    "        if done:\n",
    "            break\n",
    "    total_rewards.append(np.sum(rewards))\n",
    "\n",
    "print(\"average reward: \", np.mean(total_rewards))\n",
    "assert(1.0 <= np.mean(total_rewards) <= 1.0)\n",
    "print(\"Well done!\")"
   ]
  },
  {
   "cell_type": "code",
   "execution_count": 38,
   "metadata": {
    "pycharm": {
     "is_executing": false
    }
   },
   "outputs": [
    {
     "name": "stdout",
     "text": [
      "iter    0   |   diff: 0.90000   |   V(start): 0.000 \n",
      "iter    1   |   diff: 0.72900   |   V(start): 0.000 \n",
      "iter    2   |   diff: 0.62330   |   V(start): 0.000 \n",
      "iter    3   |   diff: 0.50487   |   V(start): 0.000 \n",
      "iter    4   |   diff: 0.40894   |   V(start): 0.000 \n",
      "iter    5   |   diff: 0.34868   |   V(start): 0.349 \n",
      "iter    6   |   diff: 0.06529   |   V(start): 0.410 \n",
      "iter    7   |   diff: 0.05832   |   V(start): 0.468 \n",
      "iter    8   |   diff: 0.01139   |   V(start): 0.480 \n",
      "iter    9   |   diff: 0.00764   |   V(start): 0.487 \n",
      "iter   10   |   diff: 0.00164   |   V(start): 0.489 \n",
      "iter   11   |   diff: 0.00094   |   V(start): 0.490 \n",
      "iter   12   |   diff: 0.00022   |   V(start): 0.490 \n",
      "iter   13   |   diff: 0.00011   |   V(start): 0.490 \n",
      "iter   14   |   diff: 0.00003   |   V(start): 0.490 \n",
      "iter   15   |   diff: 0.00001   |   V(start): 0.490 \n",
      "iter   16   |   diff: 0.00000   |   V(start): 0.490 \n",
      "average reward:  0.894\n",
      "Well done!\n"
     ],
     "output_type": "stream"
    }
   ],
   "source": [
    "# Measure agent's average reward\n",
    "mdp = FrozenLakeEnv(slip_chance=0.1)\n",
    "state_values = value_iteration(mdp)\n",
    "\n",
    "total_rewards = []\n",
    "for game_i in range(1000):\n",
    "    s = mdp.reset()\n",
    "    rewards = []\n",
    "    for t in range(100):\n",
    "        s, r, done, _ = mdp.step(\n",
    "            get_optimal_action(mdp, state_values, s, gamma))\n",
    "        rewards.append(r)\n",
    "        if done:\n",
    "            break\n",
    "    total_rewards.append(np.sum(rewards))\n",
    "\n",
    "print(\"average reward: \", np.mean(total_rewards))\n",
    "assert(0.8 <= np.mean(total_rewards) <= 0.95)\n",
    "print(\"Well done!\")"
   ]
  },
  {
   "cell_type": "code",
   "execution_count": 39,
   "metadata": {
    "pycharm": {
     "is_executing": false
    }
   },
   "outputs": [
    {
     "name": "stdout",
     "text": [
      "iter    0   |   diff: 0.75000   |   V(start): 0.000 \n",
      "iter    1   |   diff: 0.50625   |   V(start): 0.000 \n",
      "iter    2   |   diff: 0.39867   |   V(start): 0.000 \n",
      "iter    3   |   diff: 0.26910   |   V(start): 0.000 \n",
      "iter    4   |   diff: 0.18164   |   V(start): 0.000 \n",
      "iter    5   |   diff: 0.14013   |   V(start): 0.140 \n",
      "iter    6   |   diff: 0.07028   |   V(start): 0.199 \n",
      "iter    7   |   diff: 0.06030   |   V(start): 0.260 \n",
      "iter    8   |   diff: 0.02594   |   V(start): 0.285 \n",
      "iter    9   |   diff: 0.01918   |   V(start): 0.305 \n",
      "iter   10   |   diff: 0.00858   |   V(start): 0.313 \n",
      "iter   11   |   diff: 0.00560   |   V(start): 0.319 \n",
      "iter   12   |   diff: 0.00260   |   V(start): 0.321 \n",
      "iter   13   |   diff: 0.00159   |   V(start): 0.323 \n",
      "iter   14   |   diff: 0.00076   |   V(start): 0.324 \n",
      "iter   15   |   diff: 0.00045   |   V(start): 0.324 \n",
      "iter   16   |   diff: 0.00022   |   V(start): 0.324 \n",
      "iter   17   |   diff: 0.00012   |   V(start): 0.325 \n",
      "iter   18   |   diff: 0.00006   |   V(start): 0.325 \n",
      "iter   19   |   diff: 0.00003   |   V(start): 0.325 \n",
      "iter   20   |   diff: 0.00002   |   V(start): 0.325 \n",
      "iter   21   |   diff: 0.00001   |   V(start): 0.325 \n",
      "average reward:  0.666\n",
      "Well done!\n"
     ],
     "output_type": "stream"
    }
   ],
   "source": [
    "# Measure agent's average reward\n",
    "mdp = FrozenLakeEnv(slip_chance=0.25)\n",
    "state_values = value_iteration(mdp)\n",
    "\n",
    "total_rewards = []\n",
    "for game_i in range(1000):\n",
    "    s = mdp.reset()\n",
    "    rewards = []\n",
    "    for t in range(100):\n",
    "        s, r, done, _ = mdp.step(\n",
    "            get_optimal_action(mdp, state_values, s, gamma))\n",
    "        rewards.append(r)\n",
    "        if done:\n",
    "            break\n",
    "    total_rewards.append(np.sum(rewards))\n",
    "\n",
    "print(\"average reward: \", np.mean(total_rewards))\n",
    "assert(0.6 <= np.mean(total_rewards) <= 0.7)\n",
    "print(\"Well done!\")"
   ]
  },
  {
   "cell_type": "code",
   "execution_count": 40,
   "metadata": {
    "pycharm": {
     "is_executing": false
    }
   },
   "outputs": [
    {
     "name": "stdout",
     "text": [
      "iter    0   |   diff: 0.80000   |   V(start): 0.000 \n",
      "iter    1   |   diff: 0.57600   |   V(start): 0.000 \n",
      "iter    2   |   diff: 0.41472   |   V(start): 0.000 \n",
      "iter    3   |   diff: 0.29860   |   V(start): 0.000 \n",
      "iter    4   |   diff: 0.24186   |   V(start): 0.000 \n",
      "iter    5   |   diff: 0.19349   |   V(start): 0.000 \n",
      "iter    6   |   diff: 0.15325   |   V(start): 0.000 \n",
      "iter    7   |   diff: 0.12288   |   V(start): 0.000 \n",
      "iter    8   |   diff: 0.09930   |   V(start): 0.000 \n",
      "iter    9   |   diff: 0.08037   |   V(start): 0.000 \n",
      "iter   10   |   diff: 0.06426   |   V(start): 0.000 \n",
      "iter   11   |   diff: 0.05129   |   V(start): 0.000 \n",
      "iter   12   |   diff: 0.04330   |   V(start): 0.000 \n",
      "iter   13   |   diff: 0.03802   |   V(start): 0.033 \n",
      "iter   14   |   diff: 0.03332   |   V(start): 0.058 \n",
      "iter   15   |   diff: 0.02910   |   V(start): 0.087 \n",
      "iter   16   |   diff: 0.01855   |   V(start): 0.106 \n",
      "iter   17   |   diff: 0.01403   |   V(start): 0.120 \n",
      "iter   18   |   diff: 0.00810   |   V(start): 0.128 \n",
      "iter   19   |   diff: 0.00555   |   V(start): 0.133 \n",
      "iter   20   |   diff: 0.00321   |   V(start): 0.137 \n",
      "iter   21   |   diff: 0.00247   |   V(start): 0.138 \n",
      "iter   22   |   diff: 0.00147   |   V(start): 0.139 \n",
      "iter   23   |   diff: 0.00104   |   V(start): 0.140 \n",
      "iter   24   |   diff: 0.00058   |   V(start): 0.140 \n",
      "iter   25   |   diff: 0.00036   |   V(start): 0.141 \n",
      "iter   26   |   diff: 0.00024   |   V(start): 0.141 \n",
      "iter   27   |   diff: 0.00018   |   V(start): 0.141 \n",
      "iter   28   |   diff: 0.00012   |   V(start): 0.141 \n",
      "iter   29   |   diff: 0.00007   |   V(start): 0.141 \n",
      "iter   30   |   diff: 0.00004   |   V(start): 0.141 \n",
      "iter   31   |   diff: 0.00003   |   V(start): 0.141 \n",
      "iter   32   |   diff: 0.00001   |   V(start): 0.141 \n",
      "iter   33   |   diff: 0.00001   |   V(start): 0.141 \n",
      "average reward:  0.748\n",
      "Well done!\n"
     ],
     "output_type": "stream"
    }
   ],
   "source": [
    "# Measure agent's average reward\n",
    "mdp = FrozenLakeEnv(slip_chance=0.2, map_name='8x8')\n",
    "state_values = value_iteration(mdp)\n",
    "\n",
    "total_rewards = []\n",
    "for game_i in range(1000):\n",
    "    s = mdp.reset()\n",
    "    rewards = []\n",
    "    for t in range(100):\n",
    "        s, r, done, _ = mdp.step(\n",
    "            get_optimal_action(mdp, state_values, s, gamma))\n",
    "        rewards.append(r)\n",
    "        if done:\n",
    "            break\n",
    "    total_rewards.append(np.sum(rewards))\n",
    "\n",
    "print(\"average reward: \", np.mean(total_rewards))\n",
    "assert(0.6 <= np.mean(total_rewards) <= 0.8)\n",
    "print(\"Well done!\")"
   ]
  },
  {
   "cell_type": "markdown",
   "metadata": {},
   "source": [
    "### Submit to coursera\n",
    "\n",
    "If your submission doesn't finish in 30 seconds, set `verbose=True` and try again."
   ]
  },
  {
   "cell_type": "code",
   "execution_count": 42,
   "metadata": {
    "pycharm": {
     "is_executing": false
    }
   },
   "outputs": [
    {
     "name": "stdout",
     "text": [
      "Submitted to Coursera platform. See results on assignment page!\n"
     ],
     "output_type": "stream"
    }
   ],
   "source": [
    "from submit import submit_assigment\n",
    "submit_assigment(\n",
    "    get_action_value, \n",
    "    get_new_state_value, \n",
    "    get_optimal_action, \n",
    "    value_iteration, \n",
    "    \"kwatanwa17@gmail.com\", \n",
    "    \"EtNU0f9wcLDrcdiB\",\n",
    "    verbose=False,\n",
    ")"
   ]
  }
 ],
 "metadata": {
  "language_info": {
   "name": "python",
   "pygments_lexer": "ipython3"
  },
  "pycharm": {
   "stem_cell": {
    "cell_type": "raw",
    "source": [],
    "metadata": {
     "collapsed": false
    }
   }
  },
  "kernelspec": {
   "name": "python2",
   "language": "python",
   "display_name": "Python 2"
  }
 },
 "nbformat": 4,
 "nbformat_minor": 2
}